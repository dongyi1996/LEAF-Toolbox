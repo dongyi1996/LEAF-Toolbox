{
 "cells": [
  {
   "cell_type": "code",
   "execution_count": null,
   "metadata": {
    "tags": []
   },
   "outputs": [],
   "source": [
    "# LEAFToolbox-SL2P\n",
    "#\n",
    "# Applies the LEAF-ToolBox-SL2P to process input images on Googe Earth Engine\n",
    "# AND exports to google drive.\n",
    "# \n",
    "# Note: This is an exact copy of LEAF-ToolBox-SL2P for image by image products\n",
    "# as implemented on February 10, 2021 16:00 EST\n",
    "# https://code.earthengine.google.com/fd6bddb89803bd8ea45fdcad051f75cc\n",
    "#\n",
    "# You will need a Google Earth Engine Account linked to a Google Account with sufficient\n",
    "# disk space for the output.\n",
    "#\n",
    "# Refer to https://github.com/rfernand387/LEAF-Toolbox/tree/master/Source-Python \n",
    "# for configuration of anaconda environment."
   ]
  },
  {
   "cell_type": "code",
   "execution_count": 1,
   "metadata": {},
   "outputs": [],
   "source": [
    "import ee\n",
    "import geetools\n",
    "import folium\n",
    "from folium import plugins\n",
    "import time"
   ]
  },
  {
   "cell_type": "code",
   "execution_count": 2,
   "metadata": {
    "tags": []
   },
   "outputs": [
    {
     "data": {
      "text/html": [
       "<p>To authorize access needed by Earth Engine, open the following\n",
       "        URL in a web browser and follow the instructions:</p>\n",
       "        <p><a href=https://accounts.google.com/o/oauth2/auth?client_id=517222506229-vsmmajv00ul0bs7p89v5m89qs8eb9359.apps.googleusercontent.com&scope=https%3A%2F%2Fwww.googleapis.com%2Fauth%2Fearthengine+https%3A%2F%2Fwww.googleapis.com%2Fauth%2Fdevstorage.full_control&redirect_uri=urn%3Aietf%3Awg%3Aoauth%3A2.0%3Aoob&response_type=code&code_challenge=B6ABaWgv0bmDXxRGWgwsULqxGvwKZ68FyAO5J6mnLSs&code_challenge_method=S256>https://accounts.google.com/o/oauth2/auth?client_id=517222506229-vsmmajv00ul0bs7p89v5m89qs8eb9359.apps.googleusercontent.com&scope=https%3A%2F%2Fwww.googleapis.com%2Fauth%2Fearthengine+https%3A%2F%2Fwww.googleapis.com%2Fauth%2Fdevstorage.full_control&redirect_uri=urn%3Aietf%3Awg%3Aoauth%3A2.0%3Aoob&response_type=code&code_challenge=B6ABaWgv0bmDXxRGWgwsULqxGvwKZ68FyAO5J6mnLSs&code_challenge_method=S256</a></p>\n",
       "        <p>The authorization workflow will generate a code, which you\n",
       "        should paste in the box below</p>\n",
       "        "
      ],
      "text/plain": [
       "<IPython.core.display.HTML object>"
      ]
     },
     "metadata": {},
     "output_type": "display_data"
    },
    {
     "name": "stdin",
     "output_type": "stream",
     "text": [
      "Enter verification code:  4/1AX4XfWhyrBtZHX2lqGS489cY45B98jIOQNd78MDewBNYEaBQDoaziSYZnM0\n"
     ]
    },
    {
     "name": "stdout",
     "output_type": "stream",
     "text": [
      "\n",
      "Successfully saved authorization token.\n"
     ]
    }
   ],
   "source": [
    "ee.Authenticate()"
   ]
  },
  {
   "cell_type": "code",
   "execution_count": 3,
   "metadata": {
    "tags": []
   },
   "outputs": [],
   "source": [
    "# Authorizes the script with Earth Engine using the credentials.json file. Ensure either ee.Authenticate() has been called in a previous\n",
    "# script or the \"$ earthengine authenticate\" command has been run in the environment to set up the credentials.json file\n",
    "# The google account you provide during the authentication flow must have received access to Google Earth Engine\n",
    "ee.Initialize()"
   ]
  },
  {
   "cell_type": "code",
   "execution_count": 79,
   "metadata": {},
   "outputs": [],
   "source": [
    "# input parameters (to modify)\n",
    "\n",
    "# collection name\n",
    "colName_20m = \"COPERNICUS/S2_SR\"\n",
    "colName_10m = \"COPERNICUS/S2_SR_10m\"\n",
    "\n",
    "# product name, one of('Surface_Reflectance','Albedo','FAPAR','FCOVER','LAI','CCC','CWC','DASF')\n",
    "outputName = \"LAI\"\n",
    "\n",
    "# date range for inputs\n",
    "startDate = ee.Date('2020-08-01')\n",
    "endDate = ee.Date('2020-08-5')\n",
    "\n",
    "# geographical bounds of inputs you can specify a JSON geometry (e.g. from earth engine)\n",
    "# will modify for each of the three test regions\n",
    "mapBounds =  ee.Geometry.Polygon( \\\n",
    "        [[[-75, 45], \\\n",
    "          [-75, 46], \\\n",
    "          [-74, 46], \\\n",
    "          [-74, 45]]])\n",
    "\n",
    "# other filters - for now only cloud cover\n",
    "maxCloudcover = 10\n",
    "\n",
    "# output parameters, outputScale and outputOffset not applied to \"Surface_Reflectance\"\n",
    "outputScale = 1000;\n",
    "outputOffset = 0;\n",
    "exportFolder = \"users/hemitshah/testSL2Pv3\"\n",
    "exportScale = 20\n",
    "exportDatatype = \"int\""
   ]
  },
  {
   "cell_type": "code",
   "execution_count": 5,
   "metadata": {
    "tags": []
   },
   "outputs": [],
   "source": [
    "# verify status of tasks\n",
    "def check_ee_tasks(ee_tasks: list = []):\n",
    "    for task in ee_tasks:\n",
    "        taskStatus = ee.data.getTaskStatus(task.id)[0]\n",
    "        print(taskStatus[\"description\"] + \": \" + taskStatus[\"state\"])"
   ]
  },
  {
   "cell_type": "code",
   "execution_count": 6,
   "metadata": {
    "tags": []
   },
   "outputs": [],
   "source": [
    "# wait loop for Earth Engine tasks to complete. Polls for the task status the specificed number of seconds until it is no longer active\n",
    "def task_wait_loop(ee_task, wait_interval):\n",
    "    print(ee.data.getTaskStatus(ee_task.id)[0][\"description\"] + \":\", end = \" \")\n",
    "    prev_task_status = ee.data.getTaskStatus(ee_task.id)[0][\"state\"]\n",
    "    print(prev_task_status, end = \" \")\n",
    "    while ee_task.active():\n",
    "        task_status = ee.data.getTaskStatus(ee_task.id)[0][\"state\"]\n",
    "        if(task_status != prev_task_status):\n",
    "            print(task_status, end = \" \")\n",
    "        prev_task_status = task_status\n",
    "        time.sleep(wait_interval)\n",
    "    print(ee.data.getTaskStatus(ee_task.id)[0][\"state\"])"
   ]
  },
  {
   "cell_type": "code",
   "execution_count": 7,
   "metadata": {
    "tags": []
   },
   "outputs": [],
   "source": [
    "# create a folium map object\n",
    "def displayImage(image,minVal,maxVal) :\n",
    "    my_map = folium.Map(location = [20, 0], zoom_start = 3, height = 500)\n",
    "    vis_params = {\n",
    "      'min': minVal,\n",
    "      'max': maxVal}\n",
    "    my_map.add_ee_layer(image, vis_params, 'Image')\n",
    "    \n",
    "    # add a layer control panel to the map.\n",
    "    my_map.add_child(folium.LayerControl())\n",
    "\n",
    "    # add fullscreen button\n",
    "    plugins.Fullscreen().add_to(my_map)\n",
    "\n",
    "    # display the map.\n",
    "    display(my_map)"
   ]
  },
  {
   "cell_type": "code",
   "execution_count": 8,
   "metadata": {
    "tags": []
   },
   "outputs": [],
   "source": [
    "# define a method for displaying Earth Engine image tiles on a folium map\n",
    "def add_ee_layer(self, ee_object, vis_params, name):\n",
    "    \n",
    "    try:    \n",
    "        # display ee.Image()\n",
    "        if isinstance(ee_object, ee.image.Image):    \n",
    "            map_id_dict = ee.Image(ee_object).getMapId(vis_params)\n",
    "            folium.raster_layers.TileLayer(\n",
    "            tiles = map_id_dict['tile_fetcher'].url_format,\n",
    "            attr = 'Google Earth Engine',\n",
    "            name = name,\n",
    "            overlay = True,\n",
    "            control = True\n",
    "            ).add_to(self)\n",
    "        # display ee.ImageCollection()\n",
    "        elif isinstance(ee_object, ee.imagecollection.ImageCollection):    \n",
    "            ee_object_new = ee_object.mosaic()\n",
    "            map_id_dict = ee.Image(ee_object_new).getMapId(vis_params)\n",
    "            folium.raster_layers.TileLayer(\n",
    "            tiles = map_id_dict['tile_fetcher'].url_format,\n",
    "            attr = 'Google Earth Engine',\n",
    "            name = name,\n",
    "            overlay = True,\n",
    "            control = True\n",
    "            ).add_to(self)\n",
    "        # display ee.Geometry()\n",
    "        elif isinstance(ee_object, ee.geometry.Geometry):    \n",
    "            folium.GeoJson(\n",
    "            data = ee_object.getInfo(),\n",
    "            name = name,\n",
    "            overlay = True,\n",
    "            control = True\n",
    "        ).add_to(self)\n",
    "        # display ee.FeatureCollection()\n",
    "        elif isinstance(ee_object, ee.featurecollection.FeatureCollection):  \n",
    "            ee_object_new = ee.Image().paint(ee_object, 0, 2)\n",
    "            map_id_dict = ee.Image(ee_object_new).getMapId(vis_params)\n",
    "            folium.raster_layers.TileLayer(\n",
    "            tiles = map_id_dict['tile_fetcher'].url_format,\n",
    "            attr = 'Google Earth Engine',\n",
    "            name = name,\n",
    "            overlay = True,\n",
    "            control = True\n",
    "        ).add_to(self)\n",
    "    \n",
    "    except:\n",
    "        print(\"Could not display {}\".format(name))\n",
    "    \n",
    "# add EE drawing method to folium\n",
    "folium.Map.add_ee_layer = add_ee_layer"
   ]
  },
  {
   "cell_type": "code",
   "execution_count": 9,
   "metadata": {
    "tags": []
   },
   "outputs": [],
   "source": [
    "default_asset_location = \"users/hemitshah\"\n",
    "\n",
    "def export_collection_to_gee(collection, num_images: int = 0, image_names: list = [], asset_folder: str = default_asset_location, scale: float = 20, max_pixels: int = 1e8, data_type: str = \"float\"):\n",
    "    collection = ee.ImageCollection(collection)\n",
    "    image_list = collection.toList(num_images)\n",
    "    task_list = []\n",
    "    \n",
    "    for i in range(num_images):\n",
    "        image = ee.Image(image_list.get(i))\n",
    "        name = image_names[i]\n",
    "        typed_images = {\"double\": image.toDouble(), \"float\": image.toFloat(), \"byte\": image.toByte(), \"int\": image.toInt()}\n",
    "        export_task = ee.batch.Export.image.toAsset(image = typed_images[data_type],\n",
    "                                                      description = name,\n",
    "                                                      assetId = asset_folder+\"/\"+name,\n",
    "                                                      region = image.geometry(),\n",
    "                                                      scale = scale,\n",
    "                                                      maxPixels = max_pixels)\n",
    "        export_task.start()\n",
    "        task_list.append(export_task)\n",
    "    \n",
    "    return task_list"
   ]
  },
  {
   "cell_type": "code",
   "execution_count": 10,
   "metadata": {
    "tags": []
   },
   "outputs": [],
   "source": [
    "def export_collection_to_drive(collection, num_images: int = 0, image_names: list = [], gdrive_folder: str = \"\", scale: float = 20, max_pixels: int = 1e8, data_type: str = \"float\"):\n",
    "    collection = ee.ImageCollection(collection)\n",
    "    image_list = collection.toList(num_images)\n",
    "    task_list = []\n",
    "\n",
    "    for i in range(num_images):\n",
    "        image = ee.Image(image_list.get(i))\n",
    "        name = image_names[i]\n",
    "        print(name)\n",
    "        typed_images = {\"double\": image.toDouble(), \"float\": image.toFloat(), \"byte\": image.toByte(), \"int\": image.toInt()}\n",
    "        export_task = ee.batch.Export.image.toDrive(image = typed_images[data_type],\n",
    "                                                    description = name,\n",
    "                                                    folder = gdrive_folder,\n",
    "                                                    fileNamePrefix = name,\n",
    "                                                    region = image.geometry(),\n",
    "                                                    scale = scale,\n",
    "                                                    maxPixels = max_pixels)\n",
    "        export_task.start()\n",
    "        task_list.append(export_task)\n",
    "    \n",
    "    return task_list"
   ]
  },
  {
   "cell_type": "code",
   "execution_count": 11,
   "metadata": {
    "tags": []
   },
   "outputs": [],
   "source": [
    "def s2_createFeatureCollection_estimates():\n",
    "    return ee.FeatureCollection('users/rfernand387/COPERNICUS_S2_SR/s2_sl2p_weiss_or_prosail_NNT3_Single_0_1')"
   ]
  },
  {
   "cell_type": "code",
   "execution_count": 12,
   "metadata": {},
   "outputs": [],
   "source": [
    "# same function as above using 10 m bands\n",
    "def s2_10m_createFeatureCollection_estimates():\n",
    "    return ee.FeatureCollection('projects/ee-kateharvey/assets/s2_sl2p_weiss_or_prosail_10m_NNT1_Single_0_1')"
   ]
  },
  {
   "cell_type": "code",
   "execution_count": 13,
   "metadata": {
    "tags": []
   },
   "outputs": [],
   "source": [
    "def s2_createFeatureCollection_errors():\n",
    "    return ee.FeatureCollection('users/rfernand387/COPERNICUS_S2_SR/s2_sl2p_weiss_or_prosail_NNT3_Single_0_1_error')"
   ]
  },
  {
   "cell_type": "code",
   "execution_count": 14,
   "metadata": {
    "tags": []
   },
   "outputs": [],
   "source": [
    "# same function as above using 10 m bands\n",
    "def s2_10m_createFeatureCollection_errors():\n",
    "    return ee.FeatureCollection('projects/ee-kateharvey/assets/s2_sl2p_weiss_or_prosail_10m_NNT1_Single_0_1_errors')"
   ]
  },
  {
   "cell_type": "code",
   "execution_count": 15,
   "metadata": {
    "tags": []
   },
   "outputs": [],
   "source": [
    "def s2_createFeatureCollection_domains():\n",
    "    return ee.FeatureCollection('users/rfernand387/COPERNICUS_S2_SR/weiss_or_prosail3_NNT3_Single_0_1_DOMAIN')"
   ]
  },
  {
   "cell_type": "code",
   "execution_count": 16,
   "metadata": {
    "tags": []
   },
   "outputs": [],
   "source": [
    "# same function as above using 10 m bands\n",
    "def s2_10m_createFeatureCollection_domains():\n",
    "    return ee.FeatureCollection('projects/ee-kateharvey/assets/s2_sl2p_weiss_or_prosail_10m_domain')"
   ]
  },
  {
   "cell_type": "code",
   "execution_count": 17,
   "metadata": {
    "tags": []
   },
   "outputs": [],
   "source": [
    "def s2_createFeatureCollection_range():\n",
    "    return ee.FeatureCollection('users/rfernand387/COPERNICUS_S2_SR/weiss_or_prosail3_NNT3_Single_0_1_RANGE')"
   ]
  },
  {
   "cell_type": "code",
   "execution_count": 18,
   "metadata": {
    "tags": []
   },
   "outputs": [],
   "source": [
    "def s2_createFeatureCollection_Network_Ind():\n",
    "    return ee.FeatureCollection('users/rfernand387/COPERNICUS_S2_SR/Parameter_file_sl2p')"
   ]
  },
  {
   "cell_type": "code",
   "execution_count": 19,
   "metadata": {
    "tags": []
   },
   "outputs": [],
   "source": [
    "def s2_createImageCollection_partition():\n",
    "    return ee.ImageCollection('users/rfernand387/NA_NALCMS_2015_tiles').map(lambda image: image.select(\"b1\").rename(\"partition\")).merge(ee.ImageCollection(\"COPERNICUS/Landcover/100m/Proba-V/Global\").map( lambda image: image.select(\"discrete_classification\").remap([0,20,30,40,50,60,70,80,90,100,111,112,113,114,115,116,121,122,123,124,125,126,200],[0,8,10,15,17,16,19,18,14,13,1,3,1,5,6,6,2,4,2,5,6,6,18],0).toUint8().rename(\"partition\")))"
   ]
  },
  {
   "cell_type": "code",
   "execution_count": 20,
   "metadata": {},
   "outputs": [],
   "source": [
    "def s2_createFeatureCollection_legend():\n",
    "    return ee.FeatureCollection('users/rfernand387/COPERNICUS_S2_SR/Legend_sl2p')"
   ]
  },
  {
   "cell_type": "code",
   "execution_count": 21,
   "metadata": {},
   "outputs": [],
   "source": [
    "def l8_createFeatureCollection_estimates():\n",
    "    return ee.FeatureCollection('users/rfernand387/LANDSAT_LC08_C01_T1_SR_SL2P_OUTPUT')"
   ]
  },
  {
   "cell_type": "code",
   "execution_count": 22,
   "metadata": {},
   "outputs": [],
   "source": [
    "def l8_createFeatureCollection_errors():\n",
    "    return ee.FeatureCollection('users/rfernand387/LANDSAT_LC08_C01_T1_SR_SL2P_ERRORS')"
   ]
  },
  {
   "cell_type": "code",
   "execution_count": 23,
   "metadata": {},
   "outputs": [],
   "source": [
    "def l8_createFeatureCollection_domains():\n",
    "    return ee.FeatureCollection('users/rfernand387/LANDSAT_LC08_C01_T1_SR/LANDSAT_LC08_C01_T1_SR_DOMAIN')"
   ]
  },
  {
   "cell_type": "code",
   "execution_count": 24,
   "metadata": {},
   "outputs": [],
   "source": [
    "def l8_createFeatureCollection_range():\n",
    "    return ee.FeatureCollection('users/rfernand387/LANDSAT_LC08_C01_T1_SR/LANDSAT_LC08_C01_T1_SR_RANGE')"
   ]
  },
  {
   "cell_type": "code",
   "execution_count": 25,
   "metadata": {},
   "outputs": [],
   "source": [
    "def l8_createFeatureCollection_Network_Ind():\n",
    "    return ee.FeatureCollection('users/rfernand387/LANDSAT_LC08_C01_T1_SR/Parameter_file_sl2p')"
   ]
  },
  {
   "cell_type": "code",
   "execution_count": 26,
   "metadata": {},
   "outputs": [],
   "source": [
    "def l8_createImageCollection_partition():\n",
    "    return ee.ImageCollection('users/rfernand387/NA_NALCMS_2015_tiles').map(lambda image: image.select(\"b1\").rename(\"partition\")).merge(ee.ImageCollection(\"COPERNICUS/Landcover/100m/Proba-V/Global\").map( lambda image: image.select(\"discrete_classification\").remap([0,20,30,40,50,60,70,80,90,100,111,112,113,114,115,116,121,122,123,124,125,126,200],[0,8,10,15,17,16,19,18,14,13,1,3,1,5,6,6,2,4,2,5,6,6,18],0).toUint8().rename(\"partition\")))"
   ]
  },
  {
   "cell_type": "code",
   "execution_count": 27,
   "metadata": {},
   "outputs": [],
   "source": [
    "def l8_createFeatureCollection_legend():\n",
    "    return ee.FeatureCollection('users/rfernand387/LANDSAT_LC08_C01_T1_SR/Legend_sl2p')"
   ]
  },
  {
   "cell_type": "code",
   "execution_count": 28,
   "metadata": {
    "tags": []
   },
   "outputs": [],
   "source": [
    "# add a 'date' band: number of days since epoch\n",
    "def addDate(image):\n",
    "    return image.addBands(ee.Image.constant(ee.Date(image.date()).millis().divide(86400000)).rename('date').toUint16())"
   ]
  },
  {
   "cell_type": "code",
   "execution_count": 29,
   "metadata": {
    "tags": []
   },
   "outputs": [],
   "source": [
    "# computes a delta time property for an image\n",
    "def deltaTime(midDate,image) :\n",
    "    return ee.Image(image.set(\"deltaTime\",ee.Number(image.date().millis()).subtract(ee.Number(midDate)).abs()))"
   ]
  },
  {
   "cell_type": "code",
   "execution_count": 30,
   "metadata": {
    "tags": []
   },
   "outputs": [],
   "source": [
    "# mask pixels that are not clear sky in a S2 MSI image\n",
    "def s2MaskClear(image) :\n",
    "    qa = image.select('QA60');\n",
    "    mask = qa.bitwiseAnd(1<<10).eq(0).And(qa.bitwiseAnd(1<<11).eq(0));\n",
    "    return image.updateMask(mask)"
   ]
  },
  {
   "cell_type": "code",
   "execution_count": 31,
   "metadata": {
    "tags": []
   },
   "outputs": [],
   "source": [
    "# add s2 geometry bands scaled by 10000\n",
    "def addS2Geometry(colOptions,image) :\n",
    "    return (image.addBands(ee.Image.constant(0).multiply(3.1415).divide(180).cos().multiply(10000).toUint16().rename(['cosVZA']))\n",
    "              .addBands(image.metadata(colOptions[\"sza\"]).multiply(3.1415).divide(180).cos().multiply(10000).toUint16().rename(['cosSZA']))\n",
    "              .addBands(image.metadata(colOptions[\"saa\"]).subtract(image.metadata(colOptions[\"saa\"])).multiply(3.1415).divide(180).cos().multiply(10000).toUint16().rename(['cosRAA'])));"
   ]
  },
  {
   "cell_type": "code",
   "execution_count": 32,
   "metadata": {
    "tags": []
   },
   "outputs": [],
   "source": [
    "# Sentinel 2 land mask\n",
    "def s2MaskLand(image) :\n",
    "    return image.updateMask((image.select('SCL').eq(4)).Or(image.select('SCL').eq(5)))"
   ]
  },
  {
   "cell_type": "code",
   "execution_count": 33,
   "metadata": {
    "tags": []
   },
   "outputs": [],
   "source": [
    "# returns image with selected bands scaled\n",
    "def scaleBands(bandList,scaleList,image) :\n",
    "    bandList = ee.List(bandList)\n",
    "    scaleList = ee.List(scaleList)\n",
    "    return image.addBands(srcImg = image.select(bandList).multiply(ee.Image.constant(scaleList)).rename(bandList),overwrite = True)"
   ]
  },
  {
   "cell_type": "code",
   "execution_count": 34,
   "metadata": {
    "tags": []
   },
   "outputs": [],
   "source": [
    "# determine if inputs fall in domain of algorithm\n",
    "# need to be updated to allow for the domain to vary with partition\n",
    "def invalidInput(sl2pDomain,bandList,image) :\n",
    "    sl2pDomain = ee.FeatureCollection(sl2pDomain).aggregate_array(\"DomainCode\").sort()\n",
    "    bandList = ee.List(bandList).slice(3)\n",
    "    image = ee.Image(image)\n",
    "\n",
    "    # code image bands into a single band and compare to valid codes to make QC band\n",
    "    image = image.addBands(image.select(bandList).multiply(ee.Image.constant(ee.Number(10))).ceil().mod(ee.Number(10)).uint8()\n",
    "                              .multiply(ee.Image.constant(ee.List.sequence(0,bandList.length().subtract(1)).map(lambda value: ee.Number(10).pow(ee.Number(value)))))\n",
    "                              .reduce(\"sum\").remap(sl2pDomain, ee.List.repeat(0, sl2pDomain.length()),1).rename(\"QC\"))\n",
    "    return image"
   ]
  },
  {
   "cell_type": "code",
   "execution_count": 35,
   "metadata": {
    "tags": []
   },
   "outputs": [],
   "source": [
    "# returns image with single band named network id corresponding given \n",
    "def makeIndexLayer(image,legend,Network_Ind) :\n",
    "    image = ee.Image(image)                          # partition image\n",
    "    legend = ee.FeatureCollection(legend)            # legend to convert partition numbers to networks\n",
    "    Network_Ind = ee.FeatureCollection(Network_Ind)  # legend to convert networks to networkIDs\n",
    "    \n",
    "    # get lists of valid partitions\n",
    "    legend_list = legend.toList(legend.size())\n",
    "    landcover = legend_list.map(lambda feature: ee.Feature(feature).getNumber('Value'))\n",
    "\n",
    "    # get corresponding networkIDs\n",
    "    networkIDs = legend_list.map(lambda feature: ee.Feature(feature).get('SL2P Network')) \\\n",
    "                                    .map(lambda propertyValue: ee.Feature(ee.FeatureCollection(Network_Ind).first()) \\\n",
    "                                    .toDictionary().getNumber(propertyValue))\n",
    "    \n",
    "    return image.remap(landcover, networkIDs, 0).rename('networkID')"
   ]
  },
  {
   "cell_type": "code",
   "execution_count": 36,
   "metadata": {
    "tags": []
   },
   "outputs": [],
   "source": [
    "# read coefficients of a network from csv EE asset\n",
    "def getCoefs(netData,ind) :\n",
    "    return((ee.Feature(netData)).getNumber(ee.String('tabledata').cat(ee.Number(ind).int().format())))"
   ]
  },
  {
   "cell_type": "code",
   "execution_count": 37,
   "metadata": {
    "tags": []
   },
   "outputs": [],
   "source": [
    "# parse one row of CSV file for a network into a global variable\n",
    "# we assume a two hidden layer network with tansig functions but allow for variable nodes per layer\n",
    "def makeNets(feature, M) :\n",
    "    \n",
    "    feature = ee.List(feature);\n",
    "    M = ee.Number(M);\n",
    "    \n",
    "    # get the requested network and initialize the created network\n",
    "    netData = ee.Feature(feature.get(M.subtract(1)));\n",
    "    net = {};\n",
    "    \n",
    "    # input slope\n",
    "    num = ee.Number(6);\n",
    "    start = num.add(1);\n",
    "    end = num.add(netData.getNumber(ee.String('tabledata').cat(num.format())));\n",
    "    net[\"inpSlope\"] = ee.List.sequence(start,end).map(lambda ind: getCoefs(netData,ind))\n",
    "    \n",
    "    # input offset\n",
    "    num = end.add(1)\n",
    "    start = num.add(1)\n",
    "    end = num.add(netData.getNumber(ee.String('tabledata').cat(num.format())))\n",
    "    net[\"inpOffset\"] = ee.List.sequence(start,end).map(lambda ind: getCoefs(netData,ind))\n",
    "\n",
    "    # hidden layer 1 weight\n",
    "    num = end.add(1)\n",
    "    start = num.add(1)\n",
    "    end = num.add(netData.getNumber(ee.String('tabledata').cat(num.format())))\n",
    "    net[\"h1wt\"] = ee.List.sequence(start,end).map(lambda ind: getCoefs(netData,ind))\n",
    "\n",
    "    # hidden layer 1 bias\n",
    "    num = end.add(1)\n",
    "    start = num.add(1)\n",
    "    end = num.add(netData.getNumber(ee.String('tabledata').cat(num.format())))\n",
    "    net[\"h1bi\"] = ee.List.sequence(start,end).map(lambda ind: getCoefs(netData,ind))\n",
    "\n",
    "    # hidden layer 2 weight\n",
    "    num = end.add(1)\n",
    "    start = num.add(1)\n",
    "    end = num.add(netData.getNumber(ee.String('tabledata').cat(num.format())))\n",
    "    net[\"h2wt\"] = ee.List.sequence(start,end).map(lambda ind: getCoefs(netData,ind))\n",
    "  \n",
    "    # hidden layer 2 bias\n",
    "    num = end.add(1)\n",
    "    start = num.add(1)\n",
    "    end = num.add(netData.getNumber(ee.String('tabledata').cat(num.format())))\n",
    "    net[\"h2bi\"] = ee.List.sequence(start,end).map(lambda ind: getCoefs(netData,ind))\n",
    "\n",
    "    # output slope\n",
    "    num = end.add(1)\n",
    "    start = num.add(1)\n",
    "    end = num.add(netData.getNumber(ee.String('tabledata').cat(num.format())))\n",
    "    net[\"outSlope\"] = ee.List.sequence(start,end).map(lambda ind: getCoefs(netData,ind))\n",
    "  \n",
    "    # output offset\n",
    "    num = end.add(1)\n",
    "    start = num.add(1)\n",
    "    end = num.add(netData.getNumber(ee.String('tabledata').cat(num.format())))\n",
    "    net[\"outBias\"] = ee.List.sequence(start,end).map(lambda ind: getCoefs(netData,ind))\n",
    "    \n",
    "    return(ee.Dictionary(net))"
   ]
  },
  {
   "cell_type": "code",
   "execution_count": 38,
   "metadata": {
    "tags": []
   },
   "outputs": [],
   "source": [
    "# parse CSV file with list of networks for a selected variable  \n",
    "# this will parse one network for each landclass partition\n",
    "def makeNetVars(asset, numNets, variableNum) :\n",
    "    \n",
    "    asset= ee.FeatureCollection(asset)\n",
    "    numNets = ee.Number(numNets)\n",
    "    variableNum= ee.Number(variableNum)  \n",
    "\n",
    "    # get selected network \n",
    "    list_features = asset.flatten()\n",
    "    filtered_features = ee.FeatureCollection(asset.filter(ee.Filter.eq('tabledata3', variableNum))).toList(numNets)\n",
    "    \n",
    "    return ee.List.sequence(1,numNets).map(lambda netNum: makeNets(filtered_features,netNum))"
   ]
  },
  {
   "cell_type": "code",
   "execution_count": 39,
   "metadata": {
    "tags": []
   },
   "outputs": [],
   "source": [
    "# returns dictionary with image masked so the networkID band equals the netIndex and the corresponding network\n",
    "def selectNet(image,netList,inputNames,netIndex) :\n",
    "    \n",
    "    image = ee.Image(image)\n",
    "    netList = ee.List(netList)\n",
    "    inputNames = ee.List(inputNames)\n",
    "    netIndex = ee.Number(netIndex).int()\n",
    "    \n",
    "    return ee.Dictionary()  \\\n",
    "            .set(\"Image\", ee.Image(image.updateMask(image.select('networkID').eq(netIndex)).select(inputNames))) \\\n",
    "            .set(\"Network\", ee.List(netList.get(netIndex))) "
   ]
  },
  {
   "cell_type": "code",
   "execution_count": 40,
   "metadata": {
    "tags": []
   },
   "outputs": [],
   "source": [
    "# applies two layer neural network within input and output scaling\n",
    "def applyNet(outputName,netDict) :\n",
    "    outputName = ee.String(outputName)\n",
    "    netDict = ee.Dictionary(netDict)\n",
    "    inp = ee.Image(netDict.get('Image'))\n",
    "    net = ee.Dictionary(netDict.get('Network'))\n",
    "    \n",
    "    # input scaling\n",
    "    l1inp2D = inp.multiply(ee.Image(net.toArray(ee.List(['inpSlope']),0).transpose()).arrayProject([0]) \\\n",
    "                        .arrayFlatten([inp.bandNames()])) \\\n",
    "                        .add(ee.Image(net.toArray(ee.List(['inpOffset']),0).transpose()) \\\n",
    "                        .arrayProject([0]).arrayFlatten([inp.bandNames()]))\n",
    "    \n",
    "    # hidden layers\n",
    "    l12D = ee.Image(net.toArray(ee.List(['h1wt']),0).reshape([ee.List(net.get('h1bi')).length(),ee.List(net.get('inpOffset')).length()])) \\\n",
    "              .matrixMultiply(l1inp2D.toArray().toArray(1)) \\\n",
    "              .add(ee.Image(net.toArray(ee.List(['h1bi']),0).transpose())) \\\n",
    "              .arrayProject([0]).arrayFlatten([['h1w1','h1w2','h1w3','h1w4','h1w5']])\n",
    "    \n",
    "    # apply tansig 2/(1+exp(-2*n))-1\n",
    "    l2inp2D = ee.Image(2).divide(ee.Image(1).add((ee.Image(-2).multiply(l12D)).exp())).subtract(ee.Image(1))\n",
    "    \n",
    "    # purlin hidden layers\n",
    "    l22D = l2inp2D.multiply(ee.Image(net.toArray(ee.List(['h2wt']),0).transpose()) \\\n",
    "                                          .arrayProject([0]) \\\n",
    "                                          .arrayFlatten([['h2w1','h2w2','h2w3','h2w4','h2w5']])) \\\n",
    "                    .reduce('sum') \\\n",
    "                    .add(ee.Image(net.toArray(ee.List(['h2bi']),0))) \\\n",
    "                                          .arrayProject([0]) \\\n",
    "                                          .arrayFlatten([['h2bi']])\n",
    "    \n",
    "    # output scaling \n",
    "    outputBand = l22D.subtract(ee.Image(ee.Number(net.get('outBias')))).divide(ee.Image(ee.Number(net.get('outSlope')))) \n",
    "    \n",
    "    # return network output\n",
    "    return (outputBand.rename(outputName))"
   ]
  },
  {
   "cell_type": "code",
   "execution_count": 41,
   "metadata": {
    "tags": []
   },
   "outputs": [],
   "source": [
    "# returns image with single band named networkid corresponding given \n",
    "# input partition image remapped to networkIDs\n",
    "# applies a set of shallow networks to an image based on a provided partition image band\n",
    "def wrapperNNets(network, partition, netOptions, colOptions, suffixName, imageInput) :\n",
    "\n",
    "    # typecast function parameters\n",
    "    network = ee.List(network)\n",
    "    partition = ee.Image(partition)\n",
    "    netOptions = netOptions\n",
    "    colOptions = colOptions\n",
    "    suffixName = suffixName\n",
    "    imageInput = ee.Image(imageInput)\n",
    "\n",
    "    # parse partition  used to identify network to use\n",
    "    partition = partition.clip(imageInput.geometry()).select(['partition'])\n",
    "\n",
    "    # determine networks based on collection\n",
    "    netList = ee.List(network.get(ee.Number(netOptions.get(\"variable\")).subtract(1))); \n",
    "    \n",
    "    # parse land cover into network index and add to input image\n",
    "    imageInput = imageInput.addBands(makeIndexLayer(partition,colOptions[\"legend\"],colOptions[\"Network_Ind\"]))\n",
    "\n",
    "    # define list of input names\n",
    "    return ee.ImageCollection(ee.List.sequence(0, netList.size().subtract(1)) \\\n",
    "                                                    .map(lambda netIndex: selectNet(imageInput,netList,netOptions[\"inputBands\"],netIndex)) \\\n",
    "                                                    .map(lambda netDict: applyNet(suffixName+outputName,netDict))) \\\n",
    "                                                    .max().addBands(partition).addBands(imageInput.select('networkID'))"
   ]
  },
  {
   "cell_type": "code",
   "execution_count": 42,
   "metadata": {
    "tags": []
   },
   "outputs": [],
   "source": [
    "# returns dictionary with image masked so the networkID band equals the netIndex and the corresponding network\n",
    "def selectNet2(image,netList,inputNames,netIndex) :\n",
    "    image = ee.Image(image)\n",
    "    netList = ee.List(netList)\n",
    "    inputNames = ee.List(inputNames)\n",
    "    netIndex = ee.Number(netIndex).int()\n",
    "    result = ee.Dictionary() \\\n",
    "            .set(\"Image\", ee.Image(image.updateMask(image.select('networkID').eq(netIndex)).select(inputNames))) \\\n",
    "            .set(\"Network\", ee.List(netList.get(netIndex)))\n",
    "    return result"
   ]
  },
  {
   "cell_type": "code",
   "execution_count": 43,
   "metadata": {
    "tags": []
   },
   "outputs": [],
   "source": [
    "# applies two layer neural network within input and output scaling\n",
    "def applyNet2(outputName,netDict) :\n",
    "    outputName = ee.String(outputName)\n",
    "    netDict = ee.Dictionary(netDict)\n",
    "    inp = ee.Image(netDict.get('Image'))\n",
    "    net = ee.Dictionary(netDict.get('Network'))\n",
    "    \n",
    "    # input scaling\n",
    "    l1inp2D = inp.multiply(ee.Image(net.toArray(ee.List(['inpSlope']),0).transpose()).arrayProject([0]) \\\n",
    "                           .arrayFlatten([inp.bandNames()])).add(ee.Image(net.toArray(ee.List(['inpOffset']),0) \\\n",
    "                           .transpose()).arrayProject([0]).arrayFlatten([inp.bandNames()]))\n",
    "\n",
    "    # hidden layers\n",
    "    l12D = ee.Image(net.toArray(ee.List(['h1wt']),0) \\\n",
    "                    .reshape([ee.List(net.get('h1bi')).length(),ee.List(net.get('inpOffset')).length()])) \\\n",
    "                    .matrixMultiply(l1inp2D.toArray().toArray(1)) \\\n",
    "                    .add(ee.Image(net.toArray(ee.List(['h1bi']),0).transpose())) \\\n",
    "                    .arrayProject([0]).arrayFlatten([['h1w1','h1w2','h1w3','h1w4','h1w5']])\n",
    "    \n",
    "    # apply tansig 2/(1+exp(-2*n))-1\n",
    "    l2inp2D = ee.Image(2).divide(ee.Image(1).add((ee.Image(-2).multiply(l12D)).exp())).subtract(ee.Image(1))\n",
    "    \n",
    "    # purlin hidden layers\n",
    "    l22D = l2inp2D.multiply(ee.Image(net.toArray(ee.List(['h2wt']),0).transpose()).arrayProject([0]) \\\n",
    "                            .arrayFlatten([['h2w1','h2w2','h2w3','h2w4','h2w5']])).reduce('sum') \\\n",
    "                            .add(ee.Image(net.toArray(ee.List(['h2bi']),0))).arrayProject([0]).arrayFlatten([['h2bi']])\n",
    "    \n",
    "    # output scaling \n",
    "    outputBand = l22D.subtract(ee.Image(ee.Number(net.get('outBias')))).divide(ee.Image(ee.Number(net.get('outSlope')))) \n",
    "\n",
    "    # return network output\n",
    "    return (outputBand.rename(outputName))"
   ]
  },
  {
   "cell_type": "code",
   "execution_count": 44,
   "metadata": {
    "tags": []
   },
   "outputs": [],
   "source": [
    "# read coefficients of a network from csv EE asset\n",
    "def getCoefs2(netData,ind) :\n",
    "    return((ee.Feature(netData)).getNumber(ee.String('tabledata').cat(ee.Number(ind).int().format())))"
   ]
  },
  {
   "cell_type": "code",
   "execution_count": 45,
   "metadata": {
    "tags": []
   },
   "outputs": [],
   "source": [
    "# parse one row of CSV file for a network into a global variable\n",
    "# We assume a two hidden layer network with tansig functions but allow for variable nodes per layer\n",
    "def makeNets2(feature, M) :\n",
    "    \n",
    "    feature = ee.List(feature);\n",
    "    M = ee.Number(M);\n",
    "    \n",
    "    # get the requested network and initialize the created network\n",
    "    netData = ee.Feature(feature.get(M.subtract(1)));\n",
    "    net = ee.Dictionary();\n",
    "    \n",
    "    # input slope\n",
    "    num = ee.Number(6);\n",
    "    start = num.add(1);\n",
    "    end = num.add(netData.getNumber(ee.String('tabledata').cat(num.format())));\n",
    "    net = net.set(\"inpSlope\", ee.List.sequence(start,end).map(lambda ind: getCoefs(netData,ind)))\n",
    "    \n",
    "    # input offset\n",
    "    num = end.add(1)\n",
    "    start = num.add(1)\n",
    "    end = num.add(netData.getNumber(ee.String('tabledata').cat(num.format())));\n",
    "    net = net.set(\"inpOffset\", ee.List.sequence(start,end).map(lambda ind: getCoefs(netData,ind)))\n",
    "\n",
    "    # hidden layer 1 weight\n",
    "    num = end.add(1)\n",
    "    start = num.add(1)\n",
    "    end = num.add(netData.getNumber(ee.String('tabledata').cat(num.format())));\n",
    "    net = net.set(\"h1wt\", ee.List.sequence(start,end).map(lambda ind: getCoefs(netData,ind)))\n",
    "\n",
    "    # hidden layer 1 bias\n",
    "    num = end.add(1)\n",
    "    start = num.add(1)\n",
    "    end = num.add(netData.getNumber(ee.String('tabledata').cat(num.format())));\n",
    "    net = net.set(\"h1bi\", ee.List.sequence(start,end).map(lambda ind: getCoefs(netData,ind)))\n",
    "\n",
    "    # hidden layer 2 weight\n",
    "    num = end.add(1)\n",
    "    start = num.add(1)\n",
    "    end = num.add(netData.getNumber(ee.String('tabledata').cat(num.format())));\n",
    "    net = net.set(\"h2wt\", ee.List.sequence(start,end).map(lambda ind: getCoefs(netData,ind)))\n",
    "  \n",
    "    # hidden layer 2 bias\n",
    "    num = end.add(1)\n",
    "    start = num.add(1)\n",
    "    end = num.add(netData.getNumber(ee.String('tabledata').cat(num.format())));\n",
    "    net = net.set(\"h2bi\", ee.List.sequence(start,end).map(lambda ind: getCoefs(netData,ind)))\n",
    "\n",
    "    # output slope\n",
    "    num = end.add(1)\n",
    "    start = num.add(1)\n",
    "    end = num.add(netData.getNumber(ee.String('tabledata').cat(num.format())));\n",
    "    net = net.set(\"outSlope\", ee.List.sequence(start,end).map(lambda ind: getCoefs(netData,ind)))\n",
    "  \n",
    "    # output offset\n",
    "    num = end.add(1)\n",
    "    start = num.add(1)\n",
    "    end = num.add(netData.getNumber(ee.String('tabledata').cat(num.format())));\n",
    "    net = net.set(\"outBias\", ee.List.sequence(start,end).map(lambda ind: getCoefs(netData,ind)))\n",
    "\n",
    "    return(net)\n"
   ]
  },
  {
   "cell_type": "code",
   "execution_count": 46,
   "metadata": {
    "tags": []
   },
   "outputs": [],
   "source": [
    "# parse CSV file with list of networks for a selected variable  \n",
    "# this will parse one network for each landclass partition\n",
    "def makeNetVars2(asset, numNets, variableNum) :\n",
    "    \n",
    "    asset = ee.FeatureCollection(asset)\n",
    "    numNets = ee.Number(numNets)\n",
    "    variableNum = ee.Number(variableNum)\n",
    "    \n",
    "    # get selected network \n",
    "    filtered_features = ee.FeatureCollection(asset.filter(ee.Filter.eq('tabledata3', variableNum))).toList(numNets)\n",
    "    \n",
    "    # make only first net\n",
    "    netList = makeNets2(filtered_features,1)\n",
    "    return netList\n",
    "    # return ee.List.sequence(1,numNets).map(lambda netNum: makeNets(filtered_features,netNum))"
   ]
  },
  {
   "cell_type": "code",
   "execution_count": 47,
   "metadata": {
    "tags": []
   },
   "outputs": [],
   "source": [
    "# returns image with single band named network id corresponding given \n",
    "def makeIndexLayer2(image,legend,Network_Ind) :\n",
    "    \n",
    "    image = ee.Image(image)                        # partition image\n",
    "    legend = ee.FeatureCollection(legend)          # legend to convert partition numbers to networks\n",
    "    Network_Ind = ee.FeatureCollection(Network_Ind) # legend to convert networks to networkIDs\n",
    "    \n",
    "    # get lists of valid partitions\n",
    "    legend_list = legend.toList(legend.size())\n",
    "    landcover = legend_list.map(lambda feature: ee.Feature(feature).getNumber('Value'))\n",
    "\n",
    "    # get corresponding networkIDs\n",
    "    networkIDs = legend_list.map(lambda feature: ee.Feature(feature).get('SL2P Network')) \\\n",
    "                              .map(lambda propertyValue:  ee.Feature(ee.FeatureCollection(Network_Ind).first()).toDictionary().getNumber(propertyValue))\n",
    "    return image.remap(landcover, networkIDs, 0).rename('networkID')"
   ]
  },
  {
   "cell_type": "code",
   "execution_count": 48,
   "metadata": {
    "tags": []
   },
   "outputs": [],
   "source": [
    "# returns image with single band named networkid corresponding given \n",
    "# input partition image remapped to networkIDs\n",
    "# applies a set of shallow networks to an image based on a provided partition image band\n",
    "def wrapperNNets2(network, partition, netOptions, colOptions, layerName, imageInput) :\n",
    "\n",
    "    # typecast function parameters\n",
    "    network = ee.List(network)\n",
    "    partition = ee.Image(partition)\n",
    "    netOptions = ee.Dictionary(netOptions)\n",
    "    colOptions = ee.Dictionary(colOptions)\n",
    "    layerName = ee.String(layerName)\n",
    "    imageInput = ee.Image(imageInput)\n",
    "\n",
    "    # parse partition  used to identify network to use\n",
    "    partition = partition.clip(imageInput.geometry()).select(['partition'])\n",
    "\n",
    "    # determine networks based on collection\n",
    "    netList = ee.List(network.get(ee.Number(netOptions.get(\"variable\")).subtract(1))) \n",
    "    \n",
    "    # parse land cover into network index and add to input image\n",
    "    imageInput = imageInput.addBands(makeIndexLayer2(partition,colOptions.get(\"legend\"),colOptions.get(\"Network_Ind\")))\n",
    "\n",
    "\n",
    "    # define list of input names\n",
    "    netIndex = 0;\n",
    "    netDict = ee.Dictionary(selectNet2(imageInput,netList,netOptions.get(\"inputBands\"),netIndex));\n",
    "    estimate = ee.Image(applyNet2(layerName,netDict))\n",
    "\n",
    "    return estimate.addBands(partition).addBands(imageInput.select('networkID'))"
   ]
  },
  {
   "cell_type": "code",
   "execution_count": 49,
   "metadata": {},
   "outputs": [],
   "source": [
    "COLLECTION_OPTIONS = {\n",
    "    # Sentinel 2 using 20 m bands:\n",
    "    'COPERNICUS/S2_SR': {\n",
    "      \"name\": 'COPERNICUS/S2_SR',\n",
    "      \"description\": 'Sentinel 2A',\n",
    "      \"Cloudcover\": 'CLOUDY_PIXEL_PERCENTAGE',\n",
    "      \"Watercover\": 'WATER_PERCENTAGE',\n",
    "      \"sza\": 'MEAN_SOLAR_ZENITH_ANGLE',\n",
    "      \"vza\": 'MEAN_INCIDENCE_ZENITH_ANGLE_B8A',\n",
    "      \"saa\": 'MEAN_SOLAR_AZIMUTH_ANGLE', \n",
    "      \"vaa\": 'MEAN_INCIDENCE_AZIMUTH_ANGLE_B8A',\n",
    "      \"VIS_OPTIONS\": 'VIS_OPTIONS',\n",
    "      \"Collection_SL2P\": ee.FeatureCollection(s2_createFeatureCollection_estimates()),\n",
    "      \"Collection_SL2Perrors\": ee.FeatureCollection(s2_createFeatureCollection_errors()),  \n",
    "      \"sl2pDomain\": ee.FeatureCollection(s2_createFeatureCollection_domains()),\n",
    "      \"Network_Ind\": ee.FeatureCollection(s2_createFeatureCollection_Network_Ind()),\n",
    "      \"partition\": ee.ImageCollection(s2_createImageCollection_partition()),\n",
    "      \"legend\": ee.FeatureCollection(s2_createFeatureCollection_legend()),\n",
    "      \"numVariables\": 7\n",
    "    },\n",
    "    # Sentinel 2 using 10 m bands:\n",
    "    'COPERNICUS/S2_SR_10m': {\n",
    "      \"name\": 'COPERNICUS/S2_SR_10m',\n",
    "      \"description\": 'Sentinel 2A',\n",
    "      \"Cloudcover\": 'CLOUDY_PIXEL_PERCENTAGE',\n",
    "      \"Watercover\": 'WATER_PERCENTAGE',\n",
    "      \"sza\": 'MEAN_SOLAR_ZENITH_ANGLE',\n",
    "      \"vza\": 'MEAN_INCIDENCE_ZENITH_ANGLE_B8A',\n",
    "      \"saa\": 'MEAN_SOLAR_AZIMUTH_ANGLE', \n",
    "      \"vaa\": 'MEAN_INCIDENCE_AZIMUTH_ANGLE_B8A',\n",
    "      \"VIS_OPTIONS\": 'VIS_OPTIONS',\n",
    "      \"Collection_SL2P\": ee.FeatureCollection(s2_10m_createFeatureCollection_estimates()),\n",
    "      \"Collection_SL2Perrors\": ee.FeatureCollection(s2_10m_createFeatureCollection_errors()),  \n",
    "      \"sl2pDomain\": ee.FeatureCollection(s2_10m_createFeatureCollection_domains()),\n",
    "      \"Network_Ind\": ee.FeatureCollection(s2_createFeatureCollection_Network_Ind()),\n",
    "      \"partition\": ee.ImageCollection(s2_createImageCollection_partition()),\n",
    "      \"legend\": ee.FeatureCollection(s2_createFeatureCollection_legend()),\n",
    "      \"numVariables\": 7\n",
    "    },\n",
    "    'LANDSAT/LC08/C01/T1_SR': {\n",
    "      \"name\": 'LANDSAT/LC08/C01/T1_SR',\n",
    "      \"description\": 'LANDSAT 8',\n",
    "      \"Cloudcover\": 'CLOUD_COVER_LAND',\n",
    "      \"Watercover\": 'CLOUD_COVER',\n",
    "      \"sza\": 'SOLAR_ZENITH_ANGLE',\n",
    "      \"vza\": 'SOLAR_ZENITH_ANGLE',\n",
    "      \"saa\": 'SOLAR_AZIMUTH_ANGLE', \n",
    "      \"vaa\": 'SOLAR_AZIMUTH_ANGLE',\n",
    "      \"VIS_OPTIONS\": 'VIS_OPTIONS',\n",
    "      \"Collection_SL2P\": ee.FeatureCollection(l8_createFeatureCollection_estimates()),\n",
    "      \"Collection_SL2Perrors\": ee.FeatureCollection(l8_createFeatureCollection_errors()),\n",
    "      \"sl2pDomain\": ee.FeatureCollection(l8_createFeatureCollection_domains()),\n",
    "      \"Network_Ind\": ee.FeatureCollection(l8_createFeatureCollection_Network_Ind()),\n",
    "      \"partition\": ee.ImageCollection(l8_createImageCollection_partition()),\n",
    "      \"legend\": ee.FeatureCollection(l8_createFeatureCollection_legend()),\n",
    "      \"numVariables\": 7\n",
    "    }\n",
    "}\n",
    "\n",
    "VIS_OPTIONS = {\n",
    "    'Surface_Reflectance': {\n",
    "        \"COPERNICUS/S2_SR\": {\n",
    "            \"Name\": 'Surface_Reflectance',\n",
    "            \"description\": 'Surface_Reflectance',\n",
    "            \"inp\": ['B4', 'B5', 'B6', 'B7', 'B8A', 'B9', 'B11', 'B12']\n",
    "        },\n",
    "        \"COPERNICUS/S2_SR_10m\": {\n",
    "            \"Name\": 'Surface_Reflectance',\n",
    "            \"description\": 'Surface_Reflectance',\n",
    "            \"inp\": ['B2', 'B3', 'B4', 'B8']\n",
    "        }\n",
    "    },\n",
    "    'Albedo': {\n",
    "        \"COPERNICUS/S2_SR\": {\n",
    "            \"Name\": 'Albedo',\n",
    "            \"errorName\": 'errorAlbedo',\n",
    "            \"maskName\": 'maskAlbedo',\n",
    "            \"description\": 'Black sky albedo',\n",
    "            \"variable\": 6,\n",
    "            \"inputBands\":      ['cosVZA', 'cosSZA', 'cosRAA', 'B3', 'B4', 'B5', 'B6', 'B7', 'B8A', 'B11', 'B12'],\n",
    "            \"inputScaling\":    [0.0001, 0.0001, 0.0001, 0.0001, 0.0001, 0.0001, 0.0001, 0.0001, 0.0001, 0.0001, 0.0001],\n",
    "            \"outmin\": (ee.Image(ee.Array([[0]]))),\n",
    "            \"outmax\": (ee.Image(ee.Array([[1]])))\n",
    "        },\n",
    "        \"COPERNICUS/S2_SR_10m\": {\n",
    "            \"Name\": 'Albedo',\n",
    "            \"errorName\": 'errorAlbedo',\n",
    "            \"maskName\": 'maskAlbedo',\n",
    "            \"description\": 'Black sky albedo',\n",
    "            \"variable\": 6,\n",
    "            \"inputBands\":      ['cosVZA', 'cosSZA', 'cosRAA', 'B2', 'B3', 'B4', 'B8'],\n",
    "            \"inputScaling\":    [0.0001, 0.0001, 0.0001, 0.0001, 0.0001, 0.0001, 0.0001],\n",
    "            \"outmin\": (ee.Image(ee.Array([[0]]))),\n",
    "            \"outmax\": (ee.Image(ee.Array([[1]])))\n",
    "        }\n",
    "    },\n",
    "    'fAPAR': {\n",
    "        \"COPERNICUS/S2_SR\": {\n",
    "            \"Name\": 'fAPAR',\n",
    "            \"errorName\": 'errorfAPAR',\n",
    "            \"maskName\": 'maskfAPAR',\n",
    "            \"description\": 'Fraction of absorbed photosynthetically active radiation',\n",
    "            \"variable\": 2,\n",
    "            \"inputBands\":      ['cosVZA', 'cosSZA', 'cosRAA', 'B3', 'B4', 'B5', 'B6', 'B7', 'B8A', 'B11', 'B12'],\n",
    "            \"inputScaling\":    [0.0001, 0.0001, 0.0001, 0.0001, 0.0001, 0.0001, 0.0001, 0.0001, 0.0001, 0.0001, 0.0001],\n",
    "            \"outmin\": (ee.Image(ee.Array([[0]]))),\n",
    "            \"outmax\": (ee.Image(ee.Array([[1]])))\n",
    "        },\n",
    "        \"COPERNICUS/S2_SR_10m\": {\n",
    "            \"Name\": 'fAPAR',\n",
    "            \"errorName\": 'errorfAPAR',\n",
    "            \"maskName\": 'maskfAPAR',\n",
    "            \"description\": 'Fraction of absorbed photosynthetically active radiation',\n",
    "            \"variable\": 2,\n",
    "            \"inputBands\":      ['cosVZA', 'cosSZA', 'cosRAA', 'B2', 'B3', 'B4', 'B8'],\n",
    "            \"inputScaling\":    [0.0001, 0.0001, 0.0001, 0.0001, 0.0001, 0.0001, 0.0001],\n",
    "            \"outmin\": (ee.Image(ee.Array([[0]]))),\n",
    "            \"outmax\": (ee.Image(ee.Array([[1]])))\n",
    "        }\n",
    "    },\n",
    "    'fCOVER': {\n",
    "        \"COPERNICUS/S2_SR\": {\n",
    "            \"Name\": 'fCOVER',\n",
    "            \"errorName\": 'errorfCOVER',\n",
    "            \"maskName\": 'maskfCOVER',\n",
    "            \"description\": 'Fraction of canopy cover',\n",
    "            \"variable\": 3,\n",
    "            \"inputBands\":      ['cosVZA', 'cosSZA', 'cosRAA', 'B3', 'B4', 'B5', 'B6', 'B7', 'B8A', 'B11', 'B12'],\n",
    "            \"inputScaling\":    [0.0001, 0.0001, 0.0001, 0.0001, 0.0001, 0.0001, 0.0001, 0.0001, 0.0001, 0.0001, 0.0001],\n",
    "            \"outmin\": (ee.Image(ee.Array([[0]]))),\n",
    "            \"outmax\": (ee.Image(ee.Array([[1]]))) \n",
    "        },\n",
    "        \"COPERNICUS/S2_SR_10m\": {\n",
    "            \"Name\": 'fCOVER',\n",
    "            \"errorName\": 'errorfCOVER',\n",
    "            \"maskName\": 'maskfCOVER',\n",
    "            \"description\": 'Fraction of canopy cover',\n",
    "            \"variable\": 3,\n",
    "            \"inputBands\":      ['cosVZA', 'cosSZA', 'cosRAA', 'B2', 'B3', 'B4', 'B8'],\n",
    "            \"inputScaling\":    [0.0001, 0.0001, 0.0001, 0.0001, 0.0001, 0.0001, 0.0001],\n",
    "            \"outmin\": (ee.Image(ee.Array([[0]]))),\n",
    "            \"outmax\": (ee.Image(ee.Array([[1]]))) \n",
    "        }\n",
    "    },\n",
    "    'LAI': {\n",
    "        \"COPERNICUS/S2_SR\": {\n",
    "            \"Name\": 'LAI',\n",
    "            \"errorName\": 'errorLAI',\n",
    "            \"maskName\": 'maskLAI',\n",
    "            \"description\": 'Leaf area index',\n",
    "            \"variable\": 1,\n",
    "            \"inputBands\":      ['cosVZA', 'cosSZA', 'cosRAA', 'B3', 'B4', 'B5', 'B6', 'B7', 'B8A', 'B11', 'B12'],\n",
    "            \"inputScaling\":    [0.0001, 0.0001, 0.0001, 0.0001, 0.0001, 0.0001, 0.0001, 0.0001, 0.0001, 0.0001, 0.0001],\n",
    "            \"outmin\": (ee.Image(ee.Array([[0]]))),\n",
    "            \"outmax\": (ee.Image(ee.Array([[1]])))\n",
    "        },\n",
    "        \"COPERNICUS/S2_SR_10m\": {\n",
    "            \"Name\": 'LAI',\n",
    "            \"errorName\": 'errorLAI',\n",
    "            \"maskName\": 'maskLAI',\n",
    "            \"description\": 'Leaf area index',\n",
    "            \"variable\": 1,\n",
    "            \"inputBands\":      ['cosVZA', 'cosSZA', 'cosRAA', 'B2', 'B3', 'B4', 'B8'],\n",
    "            \"inputScaling\":    [0.0001, 0.0001, 0.0001, 0.0001, 0.0001, 0.0001, 0.0001],\n",
    "            \"outmin\": (ee.Image(ee.Array([[0]]))),\n",
    "            \"outmax\": (ee.Image(ee.Array([[1]])))\n",
    "        }\n",
    "    },\n",
    "    'CCC': {\n",
    "        \"COPERNICUS/S2_SR\": {\n",
    "            \"Name\": 'CCC',\n",
    "            \"errorName\": 'errorCCC',\n",
    "            \"maskName\": 'maskCCC',\n",
    "            \"description\": 'Canopy chlorophyll content',\n",
    "            \"variable\": 1,\n",
    "            \"inputBands\":      ['cosVZA', 'cosSZA', 'cosRAA', 'B3', 'B4', 'B5', 'B6', 'B7', 'B8A', 'B11', 'B12'],\n",
    "            \"inputScaling\":    [0.0001, 0.0001, 0.0001, 0.0001, 0.0001, 0.0001, 0.0001, 0.0001, 0.0001, 0.0001, 0.0001],\n",
    "            \"outmin\": (ee.Image(ee.Array([[0]]))),\n",
    "            \"outmax\": (ee.Image(ee.Array([[1000]])))\n",
    "        },\n",
    "        \"COPERNICUS/S2_SR_10m\": {\n",
    "            \"Name\": 'CCC',\n",
    "            \"errorName\": 'errorCCC',\n",
    "            \"maskName\": 'maskCCC',\n",
    "            \"description\": 'Canopy chlorophyll content',\n",
    "            \"variable\": 1,\n",
    "            \"inputBands\":      ['cosVZA', 'cosSZA', 'cosRAA', 'B2', 'B3', 'B4', 'B8'],\n",
    "            \"inputScaling\":    [0.0001, 0.0001, 0.0001, 0.0001, 0.0001, 0.0001, 0.0001],\n",
    "            \"outmin\": (ee.Image(ee.Array([[0]]))),\n",
    "            \"outmax\": (ee.Image(ee.Array([[1000]])))\n",
    "        }\n",
    "    },\n",
    "    'CWC': {\n",
    "        \"COPERNICUS/S2_SR\": {\n",
    "            \"Name\": 'CWC',\n",
    "            \"errorName\": 'errorCWC',\n",
    "            \"maskName\": 'maskCWC',\n",
    "            \"description\": 'Canopy water content',\n",
    "            \"variable\": 1,\n",
    "            \"inputBands\":      ['cosVZA', 'cosSZA', 'cosRAA', 'B3', 'B4', 'B5', 'B6', 'B7', 'B8A', 'B11', 'B12'],\n",
    "            \"inputScaling\":    [0.0001, 0.0001, 0.0001, 0.0001, 0.0001, 0.0001, 0.0001, 0.0001, 0.0001, 0.0001, 0.0001],\n",
    "            \"outmin\": (ee.Image(ee.Array([[0]]))),\n",
    "            \"outmax\": (ee.Image(ee.Array([[100]])))\n",
    "        },\n",
    "        \"COPERNICUS/S2_SR_10m\": {\n",
    "            \"Name\": 'CWC',\n",
    "            \"errorName\": 'errorCWC',\n",
    "            \"maskName\": 'maskCWC',\n",
    "            \"description\": 'Canopy water content',\n",
    "            \"variable\": 1,\n",
    "            \"inputBands\":      ['cosVZA', 'cosSZA', 'cosRAA', 'B2', 'B3', 'B4', 'B8'],\n",
    "            \"inputScaling\":    [0.0001, 0.0001, 0.0001, 0.0001, 0.0001, 0.0001, 0.0001],\n",
    "            \"outmin\": (ee.Image(ee.Array([[0]]))),\n",
    "            \"outmax\": (ee.Image(ee.Array([[100]])))\n",
    "        }\n",
    "    },\n",
    "    'DASF': {\n",
    "        \"COPERNICUS/S2_SR\": {\n",
    "            \"Name\": 'DASF',\n",
    "            \"errorName\": 'errorDASF',\n",
    "            \"maskName\": 'maskDASF',\n",
    "            \"description\": 'Directional area scattering factor',\n",
    "            \"variable\": 1,\n",
    "            \"inputBands\":      ['cosVZA', 'cosSZA', 'cosRAA', 'B3', 'B4', 'B5', 'B6', 'B7', 'B8A', 'B11', 'B12'],\n",
    "            \"inputScaling\":    [0.0001, 0.0001, 0.0001, 0.0001, 0.0001, 0.0001, 0.0001, 0.0001, 0.0001, 0.0001, 0.0001],\n",
    "            \"outmin\": (ee.Image(ee.Array([[0]]))),\n",
    "            \"outmax\": (ee.Image(ee.Array([[1]])))\n",
    "        },\n",
    "        \"COPERNICUS/S2_SR_10m\": {\n",
    "            \"Name\": 'DASF',\n",
    "            \"errorName\": 'errorDASF',\n",
    "            \"maskName\": 'maskDASF',\n",
    "            \"description\": 'Directional area scattering factor',\n",
    "            \"variable\": 1,\n",
    "            \"inputBands\":      ['cosVZA', 'cosSZA', 'cosRAA', 'B2', 'B3', 'B4', 'B8'],\n",
    "            \"inputScaling\":    [0.0001, 0.0001, 0.0001, 0.0001, 0.0001, 0.0001, 0.0001],\n",
    "            \"outmin\": (ee.Image(ee.Array([[0]]))),\n",
    "            \"outmax\": (ee.Image(ee.Array([[1]])))\n",
    "        }\n",
    "    }\n",
    "}"
   ]
  },
  {
   "cell_type": "code",
   "execution_count": 82,
   "metadata": {
    "tags": []
   },
   "outputs": [],
   "source": [
    "# parse the networks\n",
    "colName = colName_20m\n",
    "colOptions = COLLECTION_OPTIONS[colName]\n",
    "netOptions = VIS_OPTIONS[outputName][colName]\n",
    "numNets = ee.Number(ee.Feature((COLLECTION_OPTIONS[colName][\"Network_Ind\"]).first()).propertyNames().remove('Feature Index').remove('system:index').remove('lon').size())\n",
    "SL2P = ee.List.sequence(1,ee.Number(COLLECTION_OPTIONS[colName][\"numVariables\"]),1).map(lambda netNum: makeNetVars(COLLECTION_OPTIONS[colName][\"Collection_SL2P\"],numNets,netNum));\n",
    "errorsSL2P = ee.List.sequence(1,ee.Number(COLLECTION_OPTIONS[colName][\"numVariables\"]),1).map(lambda netNum: makeNetVars(COLLECTION_OPTIONS[colName][\"Collection_SL2Perrors\"],numNets,netNum));"
   ]
  },
  {
   "cell_type": "code",
   "execution_count": 87,
   "metadata": {},
   "outputs": [
    {
     "name": "stdout",
     "output_type": "stream",
     "text": [
      "COPERNICUS/S2_SR\n",
      "5\n"
     ]
    },
    {
     "data": {
      "text/html": [
       "<div style=\"width:100%;\"><div style=\"position:relative;width:100%;height:0;padding-bottom:60%;\"><span style=\"color:#565656\">Make this Notebook Trusted to load map: File -> Trust Notebook</span><iframe src=\"about:blank\" style=\"position:absolute;width:100%;height:100%;left:0;top:0;border:none !important;\" data-html=%3C%21DOCTYPE%20html%3E%0A%3Chead%3E%20%20%20%20%0A%20%20%20%20%3Cmeta%20http-equiv%3D%22content-type%22%20content%3D%22text/html%3B%20charset%3DUTF-8%22%20/%3E%0A%20%20%20%20%0A%20%20%20%20%20%20%20%20%3Cscript%3E%0A%20%20%20%20%20%20%20%20%20%20%20%20L_NO_TOUCH%20%3D%20false%3B%0A%20%20%20%20%20%20%20%20%20%20%20%20L_DISABLE_3D%20%3D%20false%3B%0A%20%20%20%20%20%20%20%20%3C/script%3E%0A%20%20%20%20%0A%20%20%20%20%3Cstyle%3Ehtml%2C%20body%20%7Bwidth%3A%20100%25%3Bheight%3A%20100%25%3Bmargin%3A%200%3Bpadding%3A%200%3B%7D%3C/style%3E%0A%20%20%20%20%3Cstyle%3E%23map%20%7Bposition%3Aabsolute%3Btop%3A0%3Bbottom%3A0%3Bright%3A0%3Bleft%3A0%3B%7D%3C/style%3E%0A%20%20%20%20%3Cscript%20src%3D%22https%3A//cdn.jsdelivr.net/npm/leaflet%401.6.0/dist/leaflet.js%22%3E%3C/script%3E%0A%20%20%20%20%3Cscript%20src%3D%22https%3A//code.jquery.com/jquery-1.12.4.min.js%22%3E%3C/script%3E%0A%20%20%20%20%3Cscript%20src%3D%22https%3A//maxcdn.bootstrapcdn.com/bootstrap/3.2.0/js/bootstrap.min.js%22%3E%3C/script%3E%0A%20%20%20%20%3Cscript%20src%3D%22https%3A//cdnjs.cloudflare.com/ajax/libs/Leaflet.awesome-markers/2.0.2/leaflet.awesome-markers.js%22%3E%3C/script%3E%0A%20%20%20%20%3Clink%20rel%3D%22stylesheet%22%20href%3D%22https%3A//cdn.jsdelivr.net/npm/leaflet%401.6.0/dist/leaflet.css%22/%3E%0A%20%20%20%20%3Clink%20rel%3D%22stylesheet%22%20href%3D%22https%3A//maxcdn.bootstrapcdn.com/bootstrap/3.2.0/css/bootstrap.min.css%22/%3E%0A%20%20%20%20%3Clink%20rel%3D%22stylesheet%22%20href%3D%22https%3A//maxcdn.bootstrapcdn.com/bootstrap/3.2.0/css/bootstrap-theme.min.css%22/%3E%0A%20%20%20%20%3Clink%20rel%3D%22stylesheet%22%20href%3D%22https%3A//maxcdn.bootstrapcdn.com/font-awesome/4.6.3/css/font-awesome.min.css%22/%3E%0A%20%20%20%20%3Clink%20rel%3D%22stylesheet%22%20href%3D%22https%3A//cdnjs.cloudflare.com/ajax/libs/Leaflet.awesome-markers/2.0.2/leaflet.awesome-markers.css%22/%3E%0A%20%20%20%20%3Clink%20rel%3D%22stylesheet%22%20href%3D%22https%3A//cdn.jsdelivr.net/gh/python-visualization/folium/folium/templates/leaflet.awesome.rotate.min.css%22/%3E%0A%20%20%20%20%0A%20%20%20%20%20%20%20%20%20%20%20%20%3Cmeta%20name%3D%22viewport%22%20content%3D%22width%3Ddevice-width%2C%0A%20%20%20%20%20%20%20%20%20%20%20%20%20%20%20%20initial-scale%3D1.0%2C%20maximum-scale%3D1.0%2C%20user-scalable%3Dno%22%20/%3E%0A%20%20%20%20%20%20%20%20%20%20%20%20%3Cstyle%3E%0A%20%20%20%20%20%20%20%20%20%20%20%20%20%20%20%20%23map_962f0a1db8694d159592a1684045149a%20%7B%0A%20%20%20%20%20%20%20%20%20%20%20%20%20%20%20%20%20%20%20%20position%3A%20relative%3B%0A%20%20%20%20%20%20%20%20%20%20%20%20%20%20%20%20%20%20%20%20width%3A%20100.0%25%3B%0A%20%20%20%20%20%20%20%20%20%20%20%20%20%20%20%20%20%20%20%20height%3A%20500.0px%3B%0A%20%20%20%20%20%20%20%20%20%20%20%20%20%20%20%20%20%20%20%20left%3A%200.0%25%3B%0A%20%20%20%20%20%20%20%20%20%20%20%20%20%20%20%20%20%20%20%20top%3A%200.0%25%3B%0A%20%20%20%20%20%20%20%20%20%20%20%20%20%20%20%20%7D%0A%20%20%20%20%20%20%20%20%20%20%20%20%3C/style%3E%0A%20%20%20%20%20%20%20%20%0A%20%20%20%20%3Cscript%20src%3D%22https%3A//cdnjs.cloudflare.com/ajax/libs/leaflet.fullscreen/1.4.2/Control.FullScreen.min.js%22%3E%3C/script%3E%0A%20%20%20%20%3Clink%20rel%3D%22stylesheet%22%20href%3D%22https%3A//cdnjs.cloudflare.com/ajax/libs/leaflet.fullscreen/1.4.2/Control.FullScreen.min.css%22/%3E%0A%3C/head%3E%0A%3Cbody%3E%20%20%20%20%0A%20%20%20%20%0A%20%20%20%20%20%20%20%20%20%20%20%20%3Cdiv%20class%3D%22folium-map%22%20id%3D%22map_962f0a1db8694d159592a1684045149a%22%20%3E%3C/div%3E%0A%20%20%20%20%20%20%20%20%0A%3C/body%3E%0A%3Cscript%3E%20%20%20%20%0A%20%20%20%20%0A%20%20%20%20%20%20%20%20%20%20%20%20var%20map_962f0a1db8694d159592a1684045149a%20%3D%20L.map%28%0A%20%20%20%20%20%20%20%20%20%20%20%20%20%20%20%20%22map_962f0a1db8694d159592a1684045149a%22%2C%0A%20%20%20%20%20%20%20%20%20%20%20%20%20%20%20%20%7B%0A%20%20%20%20%20%20%20%20%20%20%20%20%20%20%20%20%20%20%20%20center%3A%20%5B20.0%2C%200.0%5D%2C%0A%20%20%20%20%20%20%20%20%20%20%20%20%20%20%20%20%20%20%20%20crs%3A%20L.CRS.EPSG3857%2C%0A%20%20%20%20%20%20%20%20%20%20%20%20%20%20%20%20%20%20%20%20zoom%3A%203%2C%0A%20%20%20%20%20%20%20%20%20%20%20%20%20%20%20%20%20%20%20%20zoomControl%3A%20true%2C%0A%20%20%20%20%20%20%20%20%20%20%20%20%20%20%20%20%20%20%20%20preferCanvas%3A%20false%2C%0A%20%20%20%20%20%20%20%20%20%20%20%20%20%20%20%20%7D%0A%20%20%20%20%20%20%20%20%20%20%20%20%29%3B%0A%0A%20%20%20%20%20%20%20%20%20%20%20%20%0A%0A%20%20%20%20%20%20%20%20%0A%20%20%20%20%0A%20%20%20%20%20%20%20%20%20%20%20%20var%20tile_layer_4ed72ebe39434c9595ecaa23bb1af72f%20%3D%20L.tileLayer%28%0A%20%20%20%20%20%20%20%20%20%20%20%20%20%20%20%20%22https%3A//%7Bs%7D.tile.openstreetmap.org/%7Bz%7D/%7Bx%7D/%7By%7D.png%22%2C%0A%20%20%20%20%20%20%20%20%20%20%20%20%20%20%20%20%7B%22attribution%22%3A%20%22Data%20by%20%5Cu0026copy%3B%20%5Cu003ca%20href%3D%5C%22http%3A//openstreetmap.org%5C%22%5Cu003eOpenStreetMap%5Cu003c/a%5Cu003e%2C%20under%20%5Cu003ca%20href%3D%5C%22http%3A//www.openstreetmap.org/copyright%5C%22%5Cu003eODbL%5Cu003c/a%5Cu003e.%22%2C%20%22detectRetina%22%3A%20false%2C%20%22maxNativeZoom%22%3A%2018%2C%20%22maxZoom%22%3A%2018%2C%20%22minZoom%22%3A%200%2C%20%22noWrap%22%3A%20false%2C%20%22opacity%22%3A%201%2C%20%22subdomains%22%3A%20%22abc%22%2C%20%22tms%22%3A%20false%7D%0A%20%20%20%20%20%20%20%20%20%20%20%20%29.addTo%28map_962f0a1db8694d159592a1684045149a%29%3B%0A%20%20%20%20%20%20%20%20%0A%20%20%20%20%0A%20%20%20%20%20%20%20%20%20%20%20%20var%20tile_layer_53ff53b346d840e7aeb5206a103cbc8d%20%3D%20L.tileLayer%28%0A%20%20%20%20%20%20%20%20%20%20%20%20%20%20%20%20%22https%3A//earthengine.googleapis.com/v1alpha/projects/earthengine-legacy/maps/9df1c9d050651a7d772d2ddcd9bc1339-37cc8b02ae4b00964fca1235516c7c51/tiles/%7Bz%7D/%7Bx%7D/%7By%7D%22%2C%0A%20%20%20%20%20%20%20%20%20%20%20%20%20%20%20%20%7B%22attribution%22%3A%20%22Google%20Earth%20Engine%22%2C%20%22detectRetina%22%3A%20false%2C%20%22maxNativeZoom%22%3A%2018%2C%20%22maxZoom%22%3A%2018%2C%20%22minZoom%22%3A%200%2C%20%22noWrap%22%3A%20false%2C%20%22opacity%22%3A%201%2C%20%22subdomains%22%3A%20%22abc%22%2C%20%22tms%22%3A%20false%7D%0A%20%20%20%20%20%20%20%20%20%20%20%20%29.addTo%28map_962f0a1db8694d159592a1684045149a%29%3B%0A%20%20%20%20%20%20%20%20%0A%20%20%20%20%0A%20%20%20%20%20%20%20%20%20%20%20%20var%20layer_control_f28d11e1cab74f0ca53d2171e9a19d1c%20%3D%20%7B%0A%20%20%20%20%20%20%20%20%20%20%20%20%20%20%20%20base_layers%20%3A%20%7B%0A%20%20%20%20%20%20%20%20%20%20%20%20%20%20%20%20%20%20%20%20%22openstreetmap%22%20%3A%20tile_layer_4ed72ebe39434c9595ecaa23bb1af72f%2C%0A%20%20%20%20%20%20%20%20%20%20%20%20%20%20%20%20%7D%2C%0A%20%20%20%20%20%20%20%20%20%20%20%20%20%20%20%20overlays%20%3A%20%20%7B%0A%20%20%20%20%20%20%20%20%20%20%20%20%20%20%20%20%20%20%20%20%22Image%22%20%3A%20tile_layer_53ff53b346d840e7aeb5206a103cbc8d%2C%0A%20%20%20%20%20%20%20%20%20%20%20%20%20%20%20%20%7D%2C%0A%20%20%20%20%20%20%20%20%20%20%20%20%7D%3B%0A%20%20%20%20%20%20%20%20%20%20%20%20L.control.layers%28%0A%20%20%20%20%20%20%20%20%20%20%20%20%20%20%20%20layer_control_f28d11e1cab74f0ca53d2171e9a19d1c.base_layers%2C%0A%20%20%20%20%20%20%20%20%20%20%20%20%20%20%20%20layer_control_f28d11e1cab74f0ca53d2171e9a19d1c.overlays%2C%0A%20%20%20%20%20%20%20%20%20%20%20%20%20%20%20%20%7B%22autoZIndex%22%3A%20true%2C%20%22collapsed%22%3A%20true%2C%20%22position%22%3A%20%22topright%22%7D%0A%20%20%20%20%20%20%20%20%20%20%20%20%29.addTo%28map_962f0a1db8694d159592a1684045149a%29%3B%0A%20%20%20%20%20%20%20%20%0A%20%20%20%20%0A%20%20%20%20%20%20%20%20%20%20%20%20L.control.fullscreen%28%0A%20%20%20%20%20%20%20%20%20%20%20%20%20%20%20%20%7B%22forceSeparateButton%22%3A%20false%2C%20%22position%22%3A%20%22topleft%22%2C%20%22title%22%3A%20%22Full%20Screen%22%2C%20%22titleCancel%22%3A%20%22Exit%20Full%20Screen%22%7D%0A%20%20%20%20%20%20%20%20%20%20%20%20%29.addTo%28map_962f0a1db8694d159592a1684045149a%29%3B%0A%20%20%20%20%20%20%20%20%0A%3C/script%3E onload=\"this.contentDocument.open();this.contentDocument.write(    decodeURIComponent(this.getAttribute('data-html')));this.contentDocument.close();\" allowfullscreen webkitallowfullscreen mozallowfullscreen></iframe></div></div>"
      ],
      "text/plain": [
       "<folium.folium.Map at 0x1952e83cf10>"
      ]
     },
     "metadata": {},
     "output_type": "display_data"
    }
   ],
   "source": [
    "# SL2P\n",
    "# make products and export\n",
    "print(colName)\n",
    "\n",
    "# filter collection and add ancillary bands\n",
    "input_collection = ee.ImageCollection(COLLECTION_OPTIONS[colName][\"name\"]) \\\n",
    "                     .filterBounds(mapBounds) \\\n",
    "                     .filterDate(startDate, endDate) \\\n",
    "                     .filterMetadata(colOptions[\"Cloudcover\"],'less_than',maxCloudcover) \\\n",
    "                     .limit(5000) \\\n",
    "                     .map(lambda image: addDate(image)) \\\n",
    "                     .map(lambda image: image.clip(mapBounds)) \\\n",
    "                     .map(lambda image: s2MaskClear(image)) \\\n",
    "                     .map(lambda image: addS2Geometry(colOptions, image))\n",
    "print(input_collection.size().getInfo())\n",
    "\n",
    "if outputName == \"Surface_Reflectance\":\n",
    "    export_collection = input_collection;\n",
    "else:\n",
    "    # get partition used to select network\n",
    "    partition = (COLLECTION_OPTIONS[colName][\"partition\"]).filterBounds(mapBounds).mosaic().clip(mapBounds).rename('partition');\n",
    "    \n",
    "    # pre process input imagery and flag invalid inputs\n",
    "    input_collection = input_collection.map(lambda image: s2MaskLand(image)) \\\n",
    "                                       .map(lambda image: scaleBands(netOptions[\"inputBands\"],netOptions[\"inputScaling\"],image)) \\\n",
    "                                       .map(lambda image: invalidInput(COLLECTION_OPTIONS[colName][\"sl2pDomain\"],netOptions[\"inputBands\"],image))\n",
    "    \n",
    "    # apply networks to produce mapped parameters\n",
    "    estimateSL2P = input_collection.map(lambda image: wrapperNNets(SL2P, partition, netOptions, COLLECTION_OPTIONS[colName], \"estimate\", image))\n",
    "    uncertaintySL2P = input_collection.map(lambda image: wrapperNNets(errorsSL2P, partition, netOptions, COLLECTION_OPTIONS[colName], \"error\", image))\n",
    "    \n",
    "    # scale and offset mapped parameter bands\n",
    "    estimateSL2P = estimateSL2P.map(lambda image: image.addBands(image.select(\"estimate\"+outputName).multiply(ee.Image.constant(outputScale)).add(ee.Image.constant(outputOffset)),overwrite = True));\n",
    "    uncertaintySL2P = uncertaintySL2P.map(lambda image: image.addBands(image.select(\"error\"+outputName).multiply(ee.Image.constant(outputScale)).add(ee.Image.constant(outputOffset)),overwrite = True));\n",
    "    \n",
    "    # produce final export collection\n",
    "    export_collection = input_collection.select(['date','QC']).combine(estimateSL2P).combine(uncertaintySL2P)\n",
    "    \n",
    "image_output_names = ([name+\"_\"+outputName for name in export_collection.toList(export_collection.size()).map(lambda image: ee.Image(image).id()).getInfo()])\n",
    "\n",
    "displayImage(export_collection.mosaic().select('estimateLAI'),0+outputOffset,10*outputScale+outputOffset)"
   ]
  },
  {
   "cell_type": "code",
   "execution_count": 86,
   "metadata": {},
   "outputs": [
    {
     "name": "stdout",
     "output_type": "stream",
     "text": [
      "{'type': 'FeatureCollection', 'columns': {}, 'properties': {'band_order': ['estimateLAI']}, 'features': [{'type': 'Feature', 'geometry': None, 'id': '0', 'properties': {'estimateLAI': 2991.1178346524216}}, {'type': 'Feature', 'geometry': None, 'id': '2', 'properties': {'estimateLAI': 1000.2435240051782}}, {'type': 'Feature', 'geometry': None, 'id': '6', 'properties': {'estimateLAI': 3110.562580060861}}, {'type': 'Feature', 'geometry': None, 'id': '7', 'properties': {'estimateLAI': 1188.2913154580451}}, {'type': 'Feature', 'geometry': None, 'id': '8', 'properties': {'estimateLAI': 3577.701145326291}}, {'type': 'Feature', 'geometry': None, 'id': '9', 'properties': {'estimateLAI': 2185.495801266131}}, {'type': 'Feature', 'geometry': None, 'id': '10', 'properties': {'estimateLAI': 2550.461200914301}}, {'type': 'Feature', 'geometry': None, 'id': '11', 'properties': {'estimateLAI': 2561.2951315971336}}, {'type': 'Feature', 'geometry': None, 'id': '12', 'properties': {'estimateLAI': 1598.0544244707576}}, {'type': 'Feature', 'geometry': None, 'id': '13', 'properties': {'estimateLAI': 1944.7093096523133}}, {'type': 'Feature', 'geometry': None, 'id': '16', 'properties': {'estimateLAI': 1668.0807679565892}}, {'type': 'Feature', 'geometry': None, 'id': '17', 'properties': {'estimateLAI': 3361.562881601175}}, {'type': 'Feature', 'geometry': None, 'id': '18', 'properties': {'estimateLAI': 3042.6700206942724}}, {'type': 'Feature', 'geometry': None, 'id': '19', 'properties': {'estimateLAI': 1054.355895541715}}, {'type': 'Feature', 'geometry': None, 'id': '20', 'properties': {'estimateLAI': 2043.2904640675579}}, {'type': 'Feature', 'geometry': None, 'id': '21', 'properties': {'estimateLAI': 1786.7094858529988}}, {'type': 'Feature', 'geometry': None, 'id': '22', 'properties': {'estimateLAI': 3424.746706573922}}, {'type': 'Feature', 'geometry': None, 'id': '23', 'properties': {'estimateLAI': 3489.5724297573365}}, {'type': 'Feature', 'geometry': None, 'id': '24', 'properties': {'estimateLAI': 3440.7150894714136}}, {'type': 'Feature', 'geometry': None, 'id': '25', 'properties': {'estimateLAI': 3407.2840732648897}}, {'type': 'Feature', 'geometry': None, 'id': '26', 'properties': {'estimateLAI': 3674.118097441454}}, {'type': 'Feature', 'geometry': None, 'id': '28', 'properties': {'estimateLAI': 2799.8108547447396}}, {'type': 'Feature', 'geometry': None, 'id': '29', 'properties': {'estimateLAI': 3041.6505673256665}}, {'type': 'Feature', 'geometry': None, 'id': '31', 'properties': {'estimateLAI': 3269.377200973879}}, {'type': 'Feature', 'geometry': None, 'id': '33', 'properties': {'estimateLAI': 1420.5076725980603}}, {'type': 'Feature', 'geometry': None, 'id': '34', 'properties': {'estimateLAI': 3169.3600350011943}}, {'type': 'Feature', 'geometry': None, 'id': '35', 'properties': {'estimateLAI': 3356.8281721315607}}, {'type': 'Feature', 'geometry': None, 'id': '36', 'properties': {'estimateLAI': 3034.0043252838127}}, {'type': 'Feature', 'geometry': None, 'id': '37', 'properties': {'estimateLAI': 1245.6615083401457}}, {'type': 'Feature', 'geometry': None, 'id': '38', 'properties': {'estimateLAI': 256.20798514255443}}, {'type': 'Feature', 'geometry': None, 'id': '39', 'properties': {'estimateLAI': 980.8081520466917}}, {'type': 'Feature', 'geometry': None, 'id': '40', 'properties': {'estimateLAI': 2705.3494840579283}}, {'type': 'Feature', 'geometry': None, 'id': '41', 'properties': {'estimateLAI': 2596.4323001491316}}, {'type': 'Feature', 'geometry': None, 'id': '42', 'properties': {'estimateLAI': 1218.0437140914921}}, {'type': 'Feature', 'geometry': None, 'id': '43', 'properties': {'estimateLAI': 2455.6797899517883}}, {'type': 'Feature', 'geometry': None, 'id': '44', 'properties': {'estimateLAI': 3319.6306332271083}}, {'type': 'Feature', 'geometry': None, 'id': '45', 'properties': {'estimateLAI': 3140.4317298243586}}, {'type': 'Feature', 'geometry': None, 'id': '46', 'properties': {'estimateLAI': 3275.9457507930274}}, {'type': 'Feature', 'geometry': None, 'id': '47', 'properties': {'estimateLAI': 3172.6229146509872}}, {'type': 'Feature', 'geometry': None, 'id': '48', 'properties': {'estimateLAI': 2805.569392332563}}, {'type': 'Feature', 'geometry': None, 'id': '49', 'properties': {'estimateLAI': 3200.341601562378}}, {'type': 'Feature', 'geometry': None, 'id': '51', 'properties': {'estimateLAI': 4000.4887041750026}}, {'type': 'Feature', 'geometry': None, 'id': '53', 'properties': {'estimateLAI': 3289.4232606348683}}, {'type': 'Feature', 'geometry': None, 'id': '54', 'properties': {'estimateLAI': 2368.727676959863}}, {'type': 'Feature', 'geometry': None, 'id': '55', 'properties': {'estimateLAI': 3614.1118445012266}}, {'type': 'Feature', 'geometry': None, 'id': '56', 'properties': {'estimateLAI': 3540.4174101835515}}, {'type': 'Feature', 'geometry': None, 'id': '57', 'properties': {'estimateLAI': 2244.69409263891}}, {'type': 'Feature', 'geometry': None, 'id': '58', 'properties': {'estimateLAI': 3057.280043839791}}, {'type': 'Feature', 'geometry': None, 'id': '60', 'properties': {'estimateLAI': 3296.12920493376}}, {'type': 'Feature', 'geometry': None, 'id': '61', 'properties': {'estimateLAI': 2435.673786591859}}, {'type': 'Feature', 'geometry': None, 'id': '62', 'properties': {'estimateLAI': 2082.4461135524766}}, {'type': 'Feature', 'geometry': None, 'id': '63', 'properties': {'estimateLAI': 3141.5847497668046}}, {'type': 'Feature', 'geometry': None, 'id': '64', 'properties': {'estimateLAI': 3154.1119819681494}}, {'type': 'Feature', 'geometry': None, 'id': '65', 'properties': {'estimateLAI': 2531.0057324498225}}, {'type': 'Feature', 'geometry': None, 'id': '66', 'properties': {'estimateLAI': 1921.5029035353698}}, {'type': 'Feature', 'geometry': None, 'id': '67', 'properties': {'estimateLAI': 4482.01006193954}}, {'type': 'Feature', 'geometry': None, 'id': '68', 'properties': {'estimateLAI': 2009.1972201397614}}, {'type': 'Feature', 'geometry': None, 'id': '69', 'properties': {'estimateLAI': 2915.3947469169193}}, {'type': 'Feature', 'geometry': None, 'id': '70', 'properties': {'estimateLAI': 3501.3653875798723}}, {'type': 'Feature', 'geometry': None, 'id': '71', 'properties': {'estimateLAI': 2727.064920825534}}, {'type': 'Feature', 'geometry': None, 'id': '72', 'properties': {'estimateLAI': 1826.4808813446493}}, {'type': 'Feature', 'geometry': None, 'id': '73', 'properties': {'estimateLAI': 1899.4355728465105}}, {'type': 'Feature', 'geometry': None, 'id': '74', 'properties': {'estimateLAI': 3690.777964198193}}, {'type': 'Feature', 'geometry': None, 'id': '75', 'properties': {'estimateLAI': 2915.266101936383}}, {'type': 'Feature', 'geometry': None, 'id': '76', 'properties': {'estimateLAI': 1454.138286755257}}, {'type': 'Feature', 'geometry': None, 'id': '78', 'properties': {'estimateLAI': 2179.508683011509}}, {'type': 'Feature', 'geometry': None, 'id': '79', 'properties': {'estimateLAI': 3430.990294524064}}, {'type': 'Feature', 'geometry': None, 'id': '81', 'properties': {'estimateLAI': 3697.3509571224076}}, {'type': 'Feature', 'geometry': None, 'id': '83', 'properties': {'estimateLAI': 3674.574575220423}}, {'type': 'Feature', 'geometry': None, 'id': '84', 'properties': {'estimateLAI': 2094.412694249912}}, {'type': 'Feature', 'geometry': None, 'id': '85', 'properties': {'estimateLAI': 2984.560768550983}}, {'type': 'Feature', 'geometry': None, 'id': '86', 'properties': {'estimateLAI': 2295.4201345602723}}, {'type': 'Feature', 'geometry': None, 'id': '90', 'properties': {'estimateLAI': 4000.0022867034327}}, {'type': 'Feature', 'geometry': None, 'id': '91', 'properties': {'estimateLAI': 3933.9625021495067}}, {'type': 'Feature', 'geometry': None, 'id': '94', 'properties': {'estimateLAI': 2801.284188384737}}, {'type': 'Feature', 'geometry': None, 'id': '95', 'properties': {'estimateLAI': 931.8609926829661}}, {'type': 'Feature', 'geometry': None, 'id': '97', 'properties': {'estimateLAI': 3486.024644539598}}, {'type': 'Feature', 'geometry': None, 'id': '98', 'properties': {'estimateLAI': 1530.2067062876072}}, {'type': 'Feature', 'geometry': None, 'id': '99', 'properties': {'estimateLAI': 3432.4953450986895}}]}\n"
     ]
    },
    {
     "data": {
      "text/html": [
       "<div style=\"width:100%;\"><div style=\"position:relative;width:100%;height:0;padding-bottom:60%;\"><span style=\"color:#565656\">Make this Notebook Trusted to load map: File -> Trust Notebook</span><iframe src=\"about:blank\" style=\"position:absolute;width:100%;height:100%;left:0;top:0;border:none !important;\" data-html=%3C%21DOCTYPE%20html%3E%0A%3Chead%3E%20%20%20%20%0A%20%20%20%20%3Cmeta%20http-equiv%3D%22content-type%22%20content%3D%22text/html%3B%20charset%3DUTF-8%22%20/%3E%0A%20%20%20%20%0A%20%20%20%20%20%20%20%20%3Cscript%3E%0A%20%20%20%20%20%20%20%20%20%20%20%20L_NO_TOUCH%20%3D%20false%3B%0A%20%20%20%20%20%20%20%20%20%20%20%20L_DISABLE_3D%20%3D%20false%3B%0A%20%20%20%20%20%20%20%20%3C/script%3E%0A%20%20%20%20%0A%20%20%20%20%3Cstyle%3Ehtml%2C%20body%20%7Bwidth%3A%20100%25%3Bheight%3A%20100%25%3Bmargin%3A%200%3Bpadding%3A%200%3B%7D%3C/style%3E%0A%20%20%20%20%3Cstyle%3E%23map%20%7Bposition%3Aabsolute%3Btop%3A0%3Bbottom%3A0%3Bright%3A0%3Bleft%3A0%3B%7D%3C/style%3E%0A%20%20%20%20%3Cscript%20src%3D%22https%3A//cdn.jsdelivr.net/npm/leaflet%401.6.0/dist/leaflet.js%22%3E%3C/script%3E%0A%20%20%20%20%3Cscript%20src%3D%22https%3A//code.jquery.com/jquery-1.12.4.min.js%22%3E%3C/script%3E%0A%20%20%20%20%3Cscript%20src%3D%22https%3A//maxcdn.bootstrapcdn.com/bootstrap/3.2.0/js/bootstrap.min.js%22%3E%3C/script%3E%0A%20%20%20%20%3Cscript%20src%3D%22https%3A//cdnjs.cloudflare.com/ajax/libs/Leaflet.awesome-markers/2.0.2/leaflet.awesome-markers.js%22%3E%3C/script%3E%0A%20%20%20%20%3Clink%20rel%3D%22stylesheet%22%20href%3D%22https%3A//cdn.jsdelivr.net/npm/leaflet%401.6.0/dist/leaflet.css%22/%3E%0A%20%20%20%20%3Clink%20rel%3D%22stylesheet%22%20href%3D%22https%3A//maxcdn.bootstrapcdn.com/bootstrap/3.2.0/css/bootstrap.min.css%22/%3E%0A%20%20%20%20%3Clink%20rel%3D%22stylesheet%22%20href%3D%22https%3A//maxcdn.bootstrapcdn.com/bootstrap/3.2.0/css/bootstrap-theme.min.css%22/%3E%0A%20%20%20%20%3Clink%20rel%3D%22stylesheet%22%20href%3D%22https%3A//maxcdn.bootstrapcdn.com/font-awesome/4.6.3/css/font-awesome.min.css%22/%3E%0A%20%20%20%20%3Clink%20rel%3D%22stylesheet%22%20href%3D%22https%3A//cdnjs.cloudflare.com/ajax/libs/Leaflet.awesome-markers/2.0.2/leaflet.awesome-markers.css%22/%3E%0A%20%20%20%20%3Clink%20rel%3D%22stylesheet%22%20href%3D%22https%3A//cdn.jsdelivr.net/gh/python-visualization/folium/folium/templates/leaflet.awesome.rotate.min.css%22/%3E%0A%20%20%20%20%0A%20%20%20%20%20%20%20%20%20%20%20%20%3Cmeta%20name%3D%22viewport%22%20content%3D%22width%3Ddevice-width%2C%0A%20%20%20%20%20%20%20%20%20%20%20%20%20%20%20%20initial-scale%3D1.0%2C%20maximum-scale%3D1.0%2C%20user-scalable%3Dno%22%20/%3E%0A%20%20%20%20%20%20%20%20%20%20%20%20%3Cstyle%3E%0A%20%20%20%20%20%20%20%20%20%20%20%20%20%20%20%20%23map_9c0992f92aaa4049876ab089129184b8%20%7B%0A%20%20%20%20%20%20%20%20%20%20%20%20%20%20%20%20%20%20%20%20position%3A%20relative%3B%0A%20%20%20%20%20%20%20%20%20%20%20%20%20%20%20%20%20%20%20%20width%3A%20100.0%25%3B%0A%20%20%20%20%20%20%20%20%20%20%20%20%20%20%20%20%20%20%20%20height%3A%20500.0px%3B%0A%20%20%20%20%20%20%20%20%20%20%20%20%20%20%20%20%20%20%20%20left%3A%200.0%25%3B%0A%20%20%20%20%20%20%20%20%20%20%20%20%20%20%20%20%20%20%20%20top%3A%200.0%25%3B%0A%20%20%20%20%20%20%20%20%20%20%20%20%20%20%20%20%7D%0A%20%20%20%20%20%20%20%20%20%20%20%20%3C/style%3E%0A%20%20%20%20%20%20%20%20%0A%20%20%20%20%3Cscript%20src%3D%22https%3A//cdnjs.cloudflare.com/ajax/libs/leaflet.fullscreen/1.4.2/Control.FullScreen.min.js%22%3E%3C/script%3E%0A%20%20%20%20%3Clink%20rel%3D%22stylesheet%22%20href%3D%22https%3A//cdnjs.cloudflare.com/ajax/libs/leaflet.fullscreen/1.4.2/Control.FullScreen.min.css%22/%3E%0A%3C/head%3E%0A%3Cbody%3E%20%20%20%20%0A%20%20%20%20%0A%20%20%20%20%20%20%20%20%20%20%20%20%3Cdiv%20class%3D%22folium-map%22%20id%3D%22map_9c0992f92aaa4049876ab089129184b8%22%20%3E%3C/div%3E%0A%20%20%20%20%20%20%20%20%0A%3C/body%3E%0A%3Cscript%3E%20%20%20%20%0A%20%20%20%20%0A%20%20%20%20%20%20%20%20%20%20%20%20var%20map_9c0992f92aaa4049876ab089129184b8%20%3D%20L.map%28%0A%20%20%20%20%20%20%20%20%20%20%20%20%20%20%20%20%22map_9c0992f92aaa4049876ab089129184b8%22%2C%0A%20%20%20%20%20%20%20%20%20%20%20%20%20%20%20%20%7B%0A%20%20%20%20%20%20%20%20%20%20%20%20%20%20%20%20%20%20%20%20center%3A%20%5B20.0%2C%200.0%5D%2C%0A%20%20%20%20%20%20%20%20%20%20%20%20%20%20%20%20%20%20%20%20crs%3A%20L.CRS.EPSG3857%2C%0A%20%20%20%20%20%20%20%20%20%20%20%20%20%20%20%20%20%20%20%20zoom%3A%203%2C%0A%20%20%20%20%20%20%20%20%20%20%20%20%20%20%20%20%20%20%20%20zoomControl%3A%20true%2C%0A%20%20%20%20%20%20%20%20%20%20%20%20%20%20%20%20%20%20%20%20preferCanvas%3A%20false%2C%0A%20%20%20%20%20%20%20%20%20%20%20%20%20%20%20%20%7D%0A%20%20%20%20%20%20%20%20%20%20%20%20%29%3B%0A%0A%20%20%20%20%20%20%20%20%20%20%20%20%0A%0A%20%20%20%20%20%20%20%20%0A%20%20%20%20%0A%20%20%20%20%20%20%20%20%20%20%20%20var%20tile_layer_9c2c11d860af49c9937fe2041c7e521d%20%3D%20L.tileLayer%28%0A%20%20%20%20%20%20%20%20%20%20%20%20%20%20%20%20%22https%3A//%7Bs%7D.tile.openstreetmap.org/%7Bz%7D/%7Bx%7D/%7By%7D.png%22%2C%0A%20%20%20%20%20%20%20%20%20%20%20%20%20%20%20%20%7B%22attribution%22%3A%20%22Data%20by%20%5Cu0026copy%3B%20%5Cu003ca%20href%3D%5C%22http%3A//openstreetmap.org%5C%22%5Cu003eOpenStreetMap%5Cu003c/a%5Cu003e%2C%20under%20%5Cu003ca%20href%3D%5C%22http%3A//www.openstreetmap.org/copyright%5C%22%5Cu003eODbL%5Cu003c/a%5Cu003e.%22%2C%20%22detectRetina%22%3A%20false%2C%20%22maxNativeZoom%22%3A%2018%2C%20%22maxZoom%22%3A%2018%2C%20%22minZoom%22%3A%200%2C%20%22noWrap%22%3A%20false%2C%20%22opacity%22%3A%201%2C%20%22subdomains%22%3A%20%22abc%22%2C%20%22tms%22%3A%20false%7D%0A%20%20%20%20%20%20%20%20%20%20%20%20%29.addTo%28map_9c0992f92aaa4049876ab089129184b8%29%3B%0A%20%20%20%20%20%20%20%20%0A%20%20%20%20%0A%20%20%20%20%20%20%20%20%20%20%20%20var%20tile_layer_f7a8c95b51544d34a7a9a87919ed1198%20%3D%20L.tileLayer%28%0A%20%20%20%20%20%20%20%20%20%20%20%20%20%20%20%20%22https%3A//earthengine.googleapis.com/v1alpha/projects/earthengine-legacy/maps/926fbaa7b89247c8dc7af1c6fb23c83f-59a887d839b862fb80722db04381dc4c/tiles/%7Bz%7D/%7Bx%7D/%7By%7D%22%2C%0A%20%20%20%20%20%20%20%20%20%20%20%20%20%20%20%20%7B%22attribution%22%3A%20%22Google%20Earth%20Engine%22%2C%20%22detectRetina%22%3A%20false%2C%20%22maxNativeZoom%22%3A%2018%2C%20%22maxZoom%22%3A%2018%2C%20%22minZoom%22%3A%200%2C%20%22noWrap%22%3A%20false%2C%20%22opacity%22%3A%201%2C%20%22subdomains%22%3A%20%22abc%22%2C%20%22tms%22%3A%20false%7D%0A%20%20%20%20%20%20%20%20%20%20%20%20%29.addTo%28map_9c0992f92aaa4049876ab089129184b8%29%3B%0A%20%20%20%20%20%20%20%20%0A%20%20%20%20%0A%20%20%20%20%20%20%20%20%20%20%20%20var%20layer_control_a875be4ed72443c09cd09912cad02116%20%3D%20%7B%0A%20%20%20%20%20%20%20%20%20%20%20%20%20%20%20%20base_layers%20%3A%20%7B%0A%20%20%20%20%20%20%20%20%20%20%20%20%20%20%20%20%20%20%20%20%22openstreetmap%22%20%3A%20tile_layer_9c2c11d860af49c9937fe2041c7e521d%2C%0A%20%20%20%20%20%20%20%20%20%20%20%20%20%20%20%20%7D%2C%0A%20%20%20%20%20%20%20%20%20%20%20%20%20%20%20%20overlays%20%3A%20%20%7B%0A%20%20%20%20%20%20%20%20%20%20%20%20%20%20%20%20%20%20%20%20%22Image%22%20%3A%20tile_layer_f7a8c95b51544d34a7a9a87919ed1198%2C%0A%20%20%20%20%20%20%20%20%20%20%20%20%20%20%20%20%7D%2C%0A%20%20%20%20%20%20%20%20%20%20%20%20%7D%3B%0A%20%20%20%20%20%20%20%20%20%20%20%20L.control.layers%28%0A%20%20%20%20%20%20%20%20%20%20%20%20%20%20%20%20layer_control_a875be4ed72443c09cd09912cad02116.base_layers%2C%0A%20%20%20%20%20%20%20%20%20%20%20%20%20%20%20%20layer_control_a875be4ed72443c09cd09912cad02116.overlays%2C%0A%20%20%20%20%20%20%20%20%20%20%20%20%20%20%20%20%7B%22autoZIndex%22%3A%20true%2C%20%22collapsed%22%3A%20true%2C%20%22position%22%3A%20%22topright%22%7D%0A%20%20%20%20%20%20%20%20%20%20%20%20%29.addTo%28map_9c0992f92aaa4049876ab089129184b8%29%3B%0A%20%20%20%20%20%20%20%20%0A%20%20%20%20%0A%20%20%20%20%20%20%20%20%20%20%20%20L.control.fullscreen%28%0A%20%20%20%20%20%20%20%20%20%20%20%20%20%20%20%20%7B%22forceSeparateButton%22%3A%20false%2C%20%22position%22%3A%20%22topleft%22%2C%20%22title%22%3A%20%22Full%20Screen%22%2C%20%22titleCancel%22%3A%20%22Exit%20Full%20Screen%22%7D%0A%20%20%20%20%20%20%20%20%20%20%20%20%29.addTo%28map_9c0992f92aaa4049876ab089129184b8%29%3B%0A%20%20%20%20%20%20%20%20%0A%3C/script%3E onload=\"this.contentDocument.open();this.contentDocument.write(    decodeURIComponent(this.getAttribute('data-html')));this.contentDocument.close();\" allowfullscreen webkitallowfullscreen mozallowfullscreen></iframe></div></div>"
      ],
      "text/plain": [
       "<folium.folium.Map at 0x1952e71e9d0>"
      ]
     },
     "metadata": {},
     "output_type": "display_data"
    }
   ],
   "source": [
    "vis_params = {\n",
    "  'min': 0,\n",
    "  'max': 4000,\n",
    "  'palette': ['006633', 'E5FFCC', '662A00', 'D8D8D8', 'F5F5F5']}\n",
    "\n",
    "print(export_collection.first().select('estimateLAI').sample(scale=100, numPixels=100).getInfo())\n",
    "# Create a folium map object.\n",
    "my_map = folium.Map(location=[20, 0], zoom_start=3, height=500)\n",
    "displayImage(export_collection.first().select('partition_1'),0,10)\n",
    "\n"
   ]
  },
  {
   "cell_type": "code",
   "execution_count": 53,
   "metadata": {},
   "outputs": [
    {
     "name": "stdout",
     "output_type": "stream",
     "text": [
      "{'type': 'ImageCollection', 'bands': [], 'features': [{'type': 'Image', 'bands': [{'id': 'date', 'data_type': {'type': 'PixelType', 'precision': 'int', 'min': 0, 'max': 65535}, 'dimensions': [1, 1], 'origin': [-75, 45], 'crs': 'EPSG:4326', 'crs_transform': [1, 0, 0, 0, 1, 0]}, {'id': 'QC', 'data_type': {'type': 'PixelType', 'precision': 'int', 'min': 0, 'max': 1}, 'crs': 'EPSG:32618', 'crs_transform': [10, 0, 399960, 0, -10, 5000040]}, {'id': 'estimateLAI', 'data_type': {'type': 'PixelType', 'precision': 'double'}, 'crs': 'EPSG:4326', 'crs_transform': [1, 0, 0, 0, 1, 0]}, {'id': 'partition', 'data_type': {'type': 'PixelType', 'precision': 'int', 'min': 0, 'max': 255}, 'dimensions': [1, 1], 'origin': [-75, 45], 'crs': 'EPSG:4326', 'crs_transform': [1, 0, 0, 0, 1, 0]}, {'id': 'networkID', 'data_type': {'type': 'PixelType', 'precision': 'int', 'min': 0, 'max': 0}, 'dimensions': [1, 1], 'origin': [-75, 45], 'crs': 'EPSG:4326', 'crs_transform': [1, 0, 0, 0, 1, 0]}, {'id': 'errorLAI', 'data_type': {'type': 'PixelType', 'precision': 'double'}, 'crs': 'EPSG:4326', 'crs_transform': [1, 0, 0, 0, 1, 0]}, {'id': 'partition_1', 'data_type': {'type': 'PixelType', 'precision': 'int', 'min': 0, 'max': 255}, 'dimensions': [1, 1], 'origin': [-75, 45], 'crs': 'EPSG:4326', 'crs_transform': [1, 0, 0, 0, 1, 0]}, {'id': 'networkID_1', 'data_type': {'type': 'PixelType', 'precision': 'int', 'min': 0, 'max': 0}, 'dimensions': [1, 1], 'origin': [-75, 45], 'crs': 'EPSG:4326', 'crs_transform': [1, 0, 0, 0, 1, 0]}], 'id': 'COPERNICUS/S2_SR/20200801T155911_20200801T160644_T18TVQ', 'version': 1596491046538577, 'properties': {'system:footprint': {'type': 'Polygon', 'coordinates': [[[-74.87628980548584, 45.000473019734095], [-74.8759603894411, 45.153769917485306], [-74.87601215976633, 45.15381143375904], [-74.87605892804542, 45.15386001017223], [-75, 45.15392495402094], [-75, 45], [-74.87628980548584, 45.000473019734095]]]}, 'DATATAKE_IDENTIFIER': 'GS2A_20200801T155911_026692_N02.14', 'AOT_RETRIEVAL_ACCURACY': 0, 'SPACECRAFT_NAME': 'Sentinel-2A', 'SATURATED_DEFECTIVE_PIXEL_PERCENTAGE': 0, 'MEAN_INCIDENCE_AZIMUTH_ANGLE_B8A': 286.730340408202, 'CLOUD_SHADOW_PERCENTAGE': 3.179369, 'MEAN_SOLAR_AZIMUTH_ANGLE': 151.207558677178, 'VEGETATION_PERCENTAGE': 78.433794, 'SOLAR_IRRADIANCE_B12': 85.25, 'SOLAR_IRRADIANCE_B10': 367.15, 'SENSOR_QUALITY': 'PASSED', 'SOLAR_IRRADIANCE_B11': 245.59, 'GENERATION_TIME': 1596313816000, 'SOLAR_IRRADIANCE_B8A': 955.32, 'FORMAT_CORRECTNESS': 'PASSED', 'CLOUD_COVERAGE_ASSESSMENT': 8.12637, 'THIN_CIRRUS_PERCENTAGE': 1.754312, 'system:time_end': 1596298255726, 'WATER_VAPOUR_RETRIEVAL_ACCURACY': 0, 'system:time_start': 1596298255726, 'DATASTRIP_ID': 'S2A_OPER_MSI_L2A_DS_VGS2_20200801T203016_S20200801T160644_N02.14', 'PROCESSING_BASELINE': '02.14', 'SENSING_ORBIT_NUMBER': 97, 'NODATA_PIXEL_PERCENTAGE': 0.685631, 'SENSING_ORBIT_DIRECTION': 'DESCENDING', 'GENERAL_QUALITY': 'PASSED', 'GRANULE_ID': 'L2A_T18TVQ_A026692_20200801T160644', 'REFLECTANCE_CONVERSION_CORRECTION': 0.97013272108893, 'MEDIUM_PROBA_CLOUDS_PERCENTAGE': 1.208197, 'MEAN_INCIDENCE_AZIMUTH_ANGLE_B8': 285.849681508264, 'DATATAKE_TYPE': 'INS-NOBS', 'MEAN_INCIDENCE_AZIMUTH_ANGLE_B9': 287.038818148958, 'MEAN_INCIDENCE_AZIMUTH_ANGLE_B6': 286.547642565391, 'MEAN_INCIDENCE_AZIMUTH_ANGLE_B7': 286.595975635954, 'MEAN_INCIDENCE_AZIMUTH_ANGLE_B4': 286.255521560871, 'MEAN_INCIDENCE_ZENITH_ANGLE_B1': 7.08154623466375, 'NOT_VEGETATED_PERCENTAGE': 2.972497, 'MEAN_INCIDENCE_AZIMUTH_ANGLE_B5': 286.38519777811, 'RADIOMETRIC_QUALITY': 'PASSED', 'MEAN_INCIDENCE_AZIMUTH_ANGLE_B2': 285.682890446792, 'MEAN_INCIDENCE_AZIMUTH_ANGLE_B3': 285.999378860209, 'MEAN_INCIDENCE_ZENITH_ANGLE_B5': 6.92303115016447, 'MEAN_INCIDENCE_AZIMUTH_ANGLE_B1': 286.909276420622, 'MEAN_INCIDENCE_ZENITH_ANGLE_B4': 6.89490266615849, 'MEAN_INCIDENCE_ZENITH_ANGLE_B3': 6.85310584896405, 'MEAN_INCIDENCE_ZENITH_ANGLE_B2': 6.84167704637146, 'MEAN_INCIDENCE_ZENITH_ANGLE_B9': 7.12570911094457, 'MEAN_INCIDENCE_ZENITH_ANGLE_B8': 6.84817777478489, 'MEAN_INCIDENCE_ZENITH_ANGLE_B7': 6.99394886080438, 'DARK_FEATURES_PERCENTAGE': 0.474937, 'HIGH_PROBA_CLOUDS_PERCENTAGE': 5.163862, 'MEAN_INCIDENCE_ZENITH_ANGLE_B6': 6.95609770117084, 'UNCLASSIFIED_PERCENTAGE': 1.294291, 'MEAN_SOLAR_ZENITH_ANGLE': 29.4694746049345, 'MEAN_INCIDENCE_ZENITH_ANGLE_B8A': 7.03128800315422, 'RADIATIVE_TRANSFER_ACCURACY': 0, 'MGRS_TILE': '18TVQ', 'CLOUDY_PIXEL_PERCENTAGE': 8.12637, 'PRODUCT_ID': 'S2A_MSIL2A_20200801T155911_N0214_R097_T18TVQ_20200801T203016', 'MEAN_INCIDENCE_ZENITH_ANGLE_B10': 6.91132874369672, 'SOLAR_IRRADIANCE_B9': 812.92, 'SNOW_ICE_PERCENTAGE': 0.034654, 'DEGRADED_MSI_DATA_PERCENTAGE': 0, 'MEAN_INCIDENCE_ZENITH_ANGLE_B11': 6.97917348862335, 'MEAN_INCIDENCE_ZENITH_ANGLE_B12': 7.05923062479141, 'SOLAR_IRRADIANCE_B6': 1287.61, 'MEAN_INCIDENCE_AZIMUTH_ANGLE_B10': 286.104238191782, 'SOLAR_IRRADIANCE_B5': 1424.64, 'MEAN_INCIDENCE_AZIMUTH_ANGLE_B11': 286.468002979349, 'SOLAR_IRRADIANCE_B8': 1041.63, 'MEAN_INCIDENCE_AZIMUTH_ANGLE_B12': 286.738419180634, 'SOLAR_IRRADIANCE_B7': 1162.08, 'SOLAR_IRRADIANCE_B2': 1959.66, 'SOLAR_IRRADIANCE_B1': 1884.69, 'SOLAR_IRRADIANCE_B4': 1512.06, 'GEOMETRIC_QUALITY': 'PASSED', 'SOLAR_IRRADIANCE_B3': 1823.24, 'system:asset_size': 1749038223, 'WATER_PERCENTAGE': 5.484086, 'system:index': '20200801T155911_20200801T160644_T18TVQ'}}, {'type': 'Image', 'bands': [{'id': 'date', 'data_type': {'type': 'PixelType', 'precision': 'int', 'min': 0, 'max': 65535}, 'dimensions': [1, 2], 'origin': [-75, 45], 'crs': 'EPSG:4326', 'crs_transform': [1, 0, 0, 0, 1, 0]}, {'id': 'QC', 'data_type': {'type': 'PixelType', 'precision': 'int', 'min': 0, 'max': 1}, 'crs': 'EPSG:32618', 'crs_transform': [10, 0, 399960, 0, -10, 5100000]}, {'id': 'estimateLAI', 'data_type': {'type': 'PixelType', 'precision': 'double'}, 'crs': 'EPSG:4326', 'crs_transform': [1, 0, 0, 0, 1, 0]}, {'id': 'partition', 'data_type': {'type': 'PixelType', 'precision': 'int', 'min': 0, 'max': 255}, 'dimensions': [1, 2], 'origin': [-75, 45], 'crs': 'EPSG:4326', 'crs_transform': [1, 0, 0, 0, 1, 0]}, {'id': 'networkID', 'data_type': {'type': 'PixelType', 'precision': 'int', 'min': 0, 'max': 0}, 'dimensions': [1, 2], 'origin': [-75, 45], 'crs': 'EPSG:4326', 'crs_transform': [1, 0, 0, 0, 1, 0]}, {'id': 'errorLAI', 'data_type': {'type': 'PixelType', 'precision': 'double'}, 'crs': 'EPSG:4326', 'crs_transform': [1, 0, 0, 0, 1, 0]}, {'id': 'partition_1', 'data_type': {'type': 'PixelType', 'precision': 'int', 'min': 0, 'max': 255}, 'dimensions': [1, 2], 'origin': [-75, 45], 'crs': 'EPSG:4326', 'crs_transform': [1, 0, 0, 0, 1, 0]}, {'id': 'networkID_1', 'data_type': {'type': 'PixelType', 'precision': 'int', 'min': 0, 'max': 0}, 'dimensions': [1, 2], 'origin': [-75, 45], 'crs': 'EPSG:4326', 'crs_transform': [1, 0, 0, 0, 1, 0]}], 'id': 'COPERNICUS/S2_SR/20200801T155911_20200801T160644_T18TVR', 'version': 1596490563216568, 'properties': {'system:footprint': {'type': 'Polygon', 'coordinates': [[[-75, 45.065347732125396], [-74.87627936192206, 45.06528302634865], [-74.87622059943469, 45.065319518638645], [-74.87615582509277, 45.06535053670824], [-74.8761517576147, 45.06536535652911], [-74.8740811315031, 46.00047995858444], [-75, 45.99999999999999], [-75, 45.065347732125396]]]}, 'DATATAKE_IDENTIFIER': 'GS2A_20200801T155911_026692_N02.14', 'AOT_RETRIEVAL_ACCURACY': 0, 'SPACECRAFT_NAME': 'Sentinel-2A', 'SATURATED_DEFECTIVE_PIXEL_PERCENTAGE': 0, 'MEAN_INCIDENCE_AZIMUTH_ANGLE_B8A': 273.610993891542, 'CLOUD_SHADOW_PERCENTAGE': 2.905382, 'MEAN_SOLAR_AZIMUTH_ANGLE': 151.830381242263, 'VEGETATION_PERCENTAGE': 77.718759, 'SOLAR_IRRADIANCE_B12': 85.25, 'SOLAR_IRRADIANCE_B10': 367.15, 'SENSOR_QUALITY': 'PASSED', 'SOLAR_IRRADIANCE_B11': 245.59, 'GENERATION_TIME': 1596313816000, 'SOLAR_IRRADIANCE_B8A': 955.32, 'FORMAT_CORRECTNESS': 'PASSED', 'CLOUD_COVERAGE_ASSESSMENT': 8.007751, 'THIN_CIRRUS_PERCENTAGE': 1.259453, 'system:time_end': 1596298241631, 'WATER_VAPOUR_RETRIEVAL_ACCURACY': 0, 'system:time_start': 1596298241631, 'DATASTRIP_ID': 'S2A_OPER_MSI_L2A_DS_VGS2_20200801T203016_S20200801T160644_N02.14', 'PROCESSING_BASELINE': '02.14', 'SENSING_ORBIT_NUMBER': 97, 'NODATA_PIXEL_PERCENTAGE': 0.000133, 'SENSING_ORBIT_DIRECTION': 'DESCENDING', 'GENERAL_QUALITY': 'PASSED', 'GRANULE_ID': 'L2A_T18TVR_A026692_20200801T160644', 'REFLECTANCE_CONVERSION_CORRECTION': 0.97013272108893, 'MEDIUM_PROBA_CLOUDS_PERCENTAGE': 1.383793, 'MEAN_INCIDENCE_AZIMUTH_ANGLE_B8': 274.557707449762, 'DATATAKE_TYPE': 'INS-NOBS', 'MEAN_INCIDENCE_AZIMUTH_ANGLE_B9': 273.739790882158, 'MEAN_INCIDENCE_AZIMUTH_ANGLE_B6': 273.692546112687, 'MEAN_INCIDENCE_AZIMUTH_ANGLE_B7': 273.630687028349, 'MEAN_INCIDENCE_AZIMUTH_ANGLE_B4': 273.901310086545, 'MEAN_INCIDENCE_ZENITH_ANGLE_B1': 5.20731782655333, 'NOT_VEGETATED_PERCENTAGE': 4.862469, 'MEAN_INCIDENCE_AZIMUTH_ANGLE_B5': 273.765381863077, 'RADIOMETRIC_QUALITY': 'PASSED', 'MEAN_INCIDENCE_AZIMUTH_ANGLE_B2': 274.92763623913, 'MEAN_INCIDENCE_AZIMUTH_ANGLE_B3': 274.230998699555, 'MEAN_INCIDENCE_ZENITH_ANGLE_B5': 4.97229674579462, 'MEAN_INCIDENCE_AZIMUTH_ANGLE_B1': 273.72005088142, 'MEAN_INCIDENCE_ZENITH_ANGLE_B4': 4.92501602550949, 'MEAN_INCIDENCE_ZENITH_ANGLE_B3': 4.84678336890422, 'MEAN_INCIDENCE_ZENITH_ANGLE_B2': 4.78601045489193, 'MEAN_INCIDENCE_ZENITH_ANGLE_B9': 5.27272397308539, 'MEAN_INCIDENCE_ZENITH_ANGLE_B8': 4.82026153070287, 'MEAN_INCIDENCE_ZENITH_ANGLE_B7': 5.07769418962926, 'DARK_FEATURES_PERCENTAGE': 0.613718, 'HIGH_PROBA_CLOUDS_PERCENTAGE': 5.364505, 'MEAN_INCIDENCE_ZENITH_ANGLE_B6': 5.02305985630552, 'UNCLASSIFIED_PERCENTAGE': 1.764555, 'MEAN_SOLAR_ZENITH_ANGLE': 30.283674810252, 'MEAN_INCIDENCE_ZENITH_ANGLE_B8A': 5.13535895626965, 'RADIATIVE_TRANSFER_ACCURACY': 0, 'MGRS_TILE': '18TVR', 'CLOUDY_PIXEL_PERCENTAGE': 8.007751, 'PRODUCT_ID': 'S2A_MSIL2A_20200801T155911_N0214_R097_T18TVR_20200801T203016', 'MEAN_INCIDENCE_ZENITH_ANGLE_B10': 4.92626067106039, 'SOLAR_IRRADIANCE_B9': 812.92, 'SNOW_ICE_PERCENTAGE': 0.010707, 'DEGRADED_MSI_DATA_PERCENTAGE': 0, 'MEAN_INCIDENCE_ZENITH_ANGLE_B11': 5.03968115653019, 'MEAN_INCIDENCE_ZENITH_ANGLE_B12': 5.17321391866141, 'SOLAR_IRRADIANCE_B6': 1287.61, 'MEAN_INCIDENCE_AZIMUTH_ANGLE_B10': 273.674352097191, 'SOLAR_IRRADIANCE_B5': 1424.64, 'MEAN_INCIDENCE_AZIMUTH_ANGLE_B11': 273.397078060353, 'SOLAR_IRRADIANCE_B8': 1041.63, 'MEAN_INCIDENCE_AZIMUTH_ANGLE_B12': 273.276751775774, 'SOLAR_IRRADIANCE_B7': 1162.08, 'SOLAR_IRRADIANCE_B2': 1959.66, 'SOLAR_IRRADIANCE_B1': 1884.69, 'SOLAR_IRRADIANCE_B4': 1512.06, 'GEOMETRIC_QUALITY': 'PASSED', 'SOLAR_IRRADIANCE_B3': 1823.24, 'system:asset_size': 1767444114, 'WATER_PERCENTAGE': 4.116664, 'system:index': '20200801T155911_20200801T160644_T18TVR'}}, {'type': 'Image', 'bands': [{'id': 'date', 'data_type': {'type': 'PixelType', 'precision': 'int', 'min': 0, 'max': 65535}, 'dimensions': [1, 2], 'origin': [-75, 45], 'crs': 'EPSG:4326', 'crs_transform': [1, 0, 0, 0, 1, 0]}, {'id': 'QC', 'data_type': {'type': 'PixelType', 'precision': 'int', 'min': 0, 'max': 1}, 'crs': 'EPSG:32618', 'crs_transform': [10, 0, 399960, 0, -10, 5200020]}, {'id': 'estimateLAI', 'data_type': {'type': 'PixelType', 'precision': 'double'}, 'crs': 'EPSG:4326', 'crs_transform': [1, 0, 0, 0, 1, 0]}, {'id': 'partition', 'data_type': {'type': 'PixelType', 'precision': 'int', 'min': 0, 'max': 255}, 'dimensions': [1, 2], 'origin': [-75, 45], 'crs': 'EPSG:4326', 'crs_transform': [1, 0, 0, 0, 1, 0]}, {'id': 'networkID', 'data_type': {'type': 'PixelType', 'precision': 'int', 'min': 0, 'max': 0}, 'dimensions': [1, 2], 'origin': [-75, 45], 'crs': 'EPSG:4326', 'crs_transform': [1, 0, 0, 0, 1, 0]}, {'id': 'errorLAI', 'data_type': {'type': 'PixelType', 'precision': 'double'}, 'crs': 'EPSG:4326', 'crs_transform': [1, 0, 0, 0, 1, 0]}, {'id': 'partition_1', 'data_type': {'type': 'PixelType', 'precision': 'int', 'min': 0, 'max': 255}, 'dimensions': [1, 2], 'origin': [-75, 45], 'crs': 'EPSG:4326', 'crs_transform': [1, 0, 0, 0, 1, 0]}, {'id': 'networkID_1', 'data_type': {'type': 'PixelType', 'precision': 'int', 'min': 0, 'max': 0}, 'dimensions': [1, 2], 'origin': [-75, 45], 'crs': 'EPSG:4326', 'crs_transform': [1, 0, 0, 0, 1, 0]}], 'id': 'COPERNICUS/S2_SR/20200801T155911_20200801T160644_T18TVS', 'version': 1596491927743804, 'properties': {'system:footprint': {'type': 'Polygon', 'coordinates': [[[-75, 45.96563884212737], [-74.87429070033804, 45.965572008648614], [-74.87423091740226, 45.96560856157009], [-74.87416505565923, 45.96563954098884], [-74.87416097949836, 45.96565436149019], [-74.87408141887884, 46.000479957646874], [-75, 45.99999999999999], [-75, 45.96563884212737]]]}, 'DATATAKE_IDENTIFIER': 'GS2A_20200801T155911_026692_N02.14', 'AOT_RETRIEVAL_ACCURACY': 0, 'SPACECRAFT_NAME': 'Sentinel-2A', 'SATURATED_DEFECTIVE_PIXEL_PERCENTAGE': 0, 'MEAN_INCIDENCE_AZIMUTH_ANGLE_B8A': 226.563679665333, 'CLOUD_SHADOW_PERCENTAGE': 2.138435, 'MEAN_SOLAR_AZIMUTH_ANGLE': 152.41689082829, 'VEGETATION_PERCENTAGE': 81.634432, 'SOLAR_IRRADIANCE_B12': 85.25, 'SOLAR_IRRADIANCE_B10': 367.15, 'SENSOR_QUALITY': 'PASSED', 'SOLAR_IRRADIANCE_B11': 245.59, 'GENERATION_TIME': 1596313816000, 'SOLAR_IRRADIANCE_B8A': 955.32, 'FORMAT_CORRECTNESS': 'PASSED', 'CLOUD_COVERAGE_ASSESSMENT': 4.688193, 'THIN_CIRRUS_PERCENTAGE': 0.032575, 'system:time_end': 1596298227282, 'WATER_VAPOUR_RETRIEVAL_ACCURACY': 0, 'system:time_start': 1596298227282, 'DATASTRIP_ID': 'S2A_OPER_MSI_L2A_DS_VGS2_20200801T203016_S20200801T160644_N02.14', 'PROCESSING_BASELINE': '02.14', 'SENSING_ORBIT_NUMBER': 97, 'NODATA_PIXEL_PERCENTAGE': 0.000222, 'SENSING_ORBIT_DIRECTION': 'DESCENDING', 'GENERAL_QUALITY': 'PASSED', 'GRANULE_ID': 'L2A_T18TVS_A026692_20200801T160644', 'REFLECTANCE_CONVERSION_CORRECTION': 0.97013272108893, 'MEDIUM_PROBA_CLOUDS_PERCENTAGE': 0.990321, 'MEAN_INCIDENCE_AZIMUTH_ANGLE_B8': 230.875934283694, 'DATATAKE_TYPE': 'INS-NOBS', 'MEAN_INCIDENCE_AZIMUTH_ANGLE_B9': 225.818140391929, 'MEAN_INCIDENCE_AZIMUTH_ANGLE_B6': 227.335986887187, 'MEAN_INCIDENCE_AZIMUTH_ANGLE_B7': 226.939716253602, 'MEAN_INCIDENCE_AZIMUTH_ANGLE_B4': 228.406290654265, 'MEAN_INCIDENCE_ZENITH_ANGLE_B1': 3.67763815023594, 'NOT_VEGETATED_PERCENTAGE': 0.900095, 'MEAN_INCIDENCE_AZIMUTH_ANGLE_B5': 227.807108257004, 'RADIOMETRIC_QUALITY': 'PASSED', 'MEAN_INCIDENCE_AZIMUTH_ANGLE_B2': 232.277251600705, 'MEAN_INCIDENCE_AZIMUTH_ANGLE_B3': 229.885563493698, 'MEAN_INCIDENCE_ZENITH_ANGLE_B5': 3.37812608758896, 'MEAN_INCIDENCE_AZIMUTH_ANGLE_B1': 226.0345188628, 'MEAN_INCIDENCE_ZENITH_ANGLE_B4': 3.30978379245901, 'MEAN_INCIDENCE_ZENITH_ANGLE_B3': 3.19659262089369, 'MEAN_INCIDENCE_ZENITH_ANGLE_B2': 3.09704682391512, 'MEAN_INCIDENCE_ZENITH_ANGLE_B9': 3.76599015836403, 'MEAN_INCIDENCE_ZENITH_ANGLE_B8': 3.14133287605962, 'MEAN_INCIDENCE_ZENITH_ANGLE_B7': 3.52689808142334, 'DARK_FEATURES_PERCENTAGE': 0.412747, 'HIGH_PROBA_CLOUDS_PERCENTAGE': 3.665298, 'MEAN_INCIDENCE_ZENITH_ANGLE_B6': 3.45041965089216, 'UNCLASSIFIED_PERCENTAGE': 1.317766, 'MEAN_SOLAR_ZENITH_ANGLE': 31.1020519141368, 'MEAN_INCIDENCE_ZENITH_ANGLE_B8A': 3.59901153626642, 'RADIATIVE_TRANSFER_ACCURACY': 0, 'MGRS_TILE': '18TVS', 'CLOUDY_PIXEL_PERCENTAGE': 4.688193, 'PRODUCT_ID': 'S2A_MSIL2A_20200801T155911_N0214_R097_T18TVS_20200801T203016', 'MEAN_INCIDENCE_ZENITH_ANGLE_B10': 3.28435012602298, 'SOLAR_IRRADIANCE_B9': 812.92, 'SNOW_ICE_PERCENTAGE': 0.015096, 'DEGRADED_MSI_DATA_PERCENTAGE': 0, 'MEAN_INCIDENCE_ZENITH_ANGLE_B11': 3.44894621010063, 'MEAN_INCIDENCE_ZENITH_ANGLE_B12': 3.63434707256157, 'SOLAR_IRRADIANCE_B6': 1287.61, 'MEAN_INCIDENCE_AZIMUTH_ANGLE_B10': 228.568228590409, 'SOLAR_IRRADIANCE_B5': 1424.64, 'MEAN_INCIDENCE_AZIMUTH_ANGLE_B11': 227.1969476556, 'SOLAR_IRRADIANCE_B8': 1041.63, 'MEAN_INCIDENCE_AZIMUTH_ANGLE_B12': 226.285654774621, 'SOLAR_IRRADIANCE_B7': 1162.08, 'SOLAR_IRRADIANCE_B2': 1959.66, 'SOLAR_IRRADIANCE_B1': 1884.69, 'SOLAR_IRRADIANCE_B4': 1512.06, 'GEOMETRIC_QUALITY': 'PASSED', 'SOLAR_IRRADIANCE_B3': 1823.24, 'system:asset_size': 1668895415, 'WATER_PERCENTAGE': 8.893239, 'system:index': '20200801T155911_20200801T160644_T18TVS'}}, {'type': 'Image', 'bands': [{'id': 'date', 'data_type': {'type': 'PixelType', 'precision': 'int', 'min': 0, 'max': 65535}, 'dimensions': [2, 1], 'origin': [-75, 45], 'crs': 'EPSG:4326', 'crs_transform': [1, 0, 0, 0, 1, 0]}, {'id': 'QC', 'data_type': {'type': 'PixelType', 'precision': 'int', 'min': 0, 'max': 1}, 'crs': 'EPSG:32618', 'crs_transform': [10, 0, 499980, 0, -10, 5000040]}, {'id': 'estimateLAI', 'data_type': {'type': 'PixelType', 'precision': 'double'}, 'crs': 'EPSG:4326', 'crs_transform': [1, 0, 0, 0, 1, 0]}, {'id': 'partition', 'data_type': {'type': 'PixelType', 'precision': 'int', 'min': 0, 'max': 255}, 'dimensions': [1, 1], 'origin': [-75, 45], 'crs': 'EPSG:4326', 'crs_transform': [1, 0, 0, 0, 1, 0]}, {'id': 'networkID', 'data_type': {'type': 'PixelType', 'precision': 'int', 'min': 0, 'max': 0}, 'dimensions': [1, 1], 'origin': [-75, 45], 'crs': 'EPSG:4326', 'crs_transform': [1, 0, 0, 0, 1, 0]}, {'id': 'errorLAI', 'data_type': {'type': 'PixelType', 'precision': 'double'}, 'crs': 'EPSG:4326', 'crs_transform': [1, 0, 0, 0, 1, 0]}, {'id': 'partition_1', 'data_type': {'type': 'PixelType', 'precision': 'int', 'min': 0, 'max': 255}, 'dimensions': [1, 1], 'origin': [-75, 45], 'crs': 'EPSG:4326', 'crs_transform': [1, 0, 0, 0, 1, 0]}, {'id': 'networkID_1', 'data_type': {'type': 'PixelType', 'precision': 'int', 'min': 0, 'max': 0}, 'dimensions': [1, 1], 'origin': [-75, 45], 'crs': 'EPSG:4326', 'crs_transform': [1, 0, 0, 0, 1, 0]}], 'id': 'COPERNICUS/S2_SR/20200801T155911_20200801T160644_T18TWQ', 'version': 1596496033527729, 'properties': {'system:footprint': {'type': 'Polygon', 'coordinates': [[[-74.62437965981896, 45.00102334265795], [-74.56938066352305, 45.13490760024276], [-74.56393603774815, 45.14839029631305], [-74.5623768494618, 45.152439750877754], [-74.56224359290343, 45.152986967978066], [-74.56233654445039, 45.15308863018645], [-75, 45.153927217438934], [-75, 45], [-74.62437965981896, 45.00102334265795]]]}, 'DATATAKE_IDENTIFIER': 'GS2A_20200801T155911_026692_N02.14', 'AOT_RETRIEVAL_ACCURACY': 0, 'SPACECRAFT_NAME': 'Sentinel-2A', 'SATURATED_DEFECTIVE_PIXEL_PERCENTAGE': 0, 'MEAN_INCIDENCE_AZIMUTH_ANGLE_B8A': 293.97091955129, 'CLOUD_SHADOW_PERCENTAGE': 2.760736, 'MEAN_SOLAR_AZIMUTH_ANGLE': 153.486016371407, 'VEGETATION_PERCENTAGE': 78.999579, 'SOLAR_IRRADIANCE_B12': 85.25, 'SOLAR_IRRADIANCE_B10': 367.15, 'SENSOR_QUALITY': 'PASSED', 'SOLAR_IRRADIANCE_B11': 245.59, 'GENERATION_TIME': 1596313816000, 'SOLAR_IRRADIANCE_B8A': 955.32, 'FORMAT_CORRECTNESS': 'PASSED', 'CLOUD_COVERAGE_ASSESSMENT': 8.131839, 'THIN_CIRRUS_PERCENTAGE': 1.8767, 'system:time_end': 1596298250038, 'WATER_VAPOUR_RETRIEVAL_ACCURACY': 0, 'system:time_start': 1596298250038, 'DATASTRIP_ID': 'S2A_OPER_MSI_L2A_DS_VGS2_20200801T203016_S20200801T160644_N02.14', 'PROCESSING_BASELINE': '02.14', 'SENSING_ORBIT_NUMBER': 97, 'NODATA_PIXEL_PERCENTAGE': 82.981378, 'SENSING_ORBIT_DIRECTION': 'DESCENDING', 'GENERAL_QUALITY': 'PASSED', 'GRANULE_ID': 'L2A_T18TWQ_A026692_20200801T160644', 'REFLECTANCE_CONVERSION_CORRECTION': 0.97013272108893, 'MEDIUM_PROBA_CLOUDS_PERCENTAGE': 1.526973, 'MEAN_INCIDENCE_AZIMUTH_ANGLE_B8': 289.766593569511, 'DATATAKE_TYPE': 'INS-NOBS', 'MEAN_INCIDENCE_AZIMUTH_ANGLE_B9': 295.180942843365, 'MEAN_INCIDENCE_AZIMUTH_ANGLE_B6': 292.743963512313, 'MEAN_INCIDENCE_AZIMUTH_ANGLE_B7': 293.353034918445, 'MEAN_INCIDENCE_AZIMUTH_ANGLE_B4': 291.509895968561, 'MEAN_INCIDENCE_ZENITH_ANGLE_B1': 10.9869915410418, 'NOT_VEGETATED_PERCENTAGE': 3.257652, 'MEAN_INCIDENCE_AZIMUTH_ANGLE_B5': 292.119217783575, 'RADIOMETRIC_QUALITY': 'PASSED', 'MEAN_INCIDENCE_AZIMUTH_ANGLE_B2': 289.08926444433, 'MEAN_INCIDENCE_AZIMUTH_ANGLE_B3': 290.386086493645, 'MEAN_INCIDENCE_ZENITH_ANGLE_B5': 10.9020484110093, 'MEAN_INCIDENCE_AZIMUTH_ANGLE_B1': 294.554877136746, 'MEAN_INCIDENCE_ZENITH_ANGLE_B4': 10.8854853308729, 'MEAN_INCIDENCE_ZENITH_ANGLE_B3': 10.8480581064765, 'MEAN_INCIDENCE_ZENITH_ANGLE_B2': 10.8167071331951, 'MEAN_INCIDENCE_ZENITH_ANGLE_B9': 11.0136120945206, 'MEAN_INCIDENCE_ZENITH_ANGLE_B8': 10.8366244523422, 'MEAN_INCIDENCE_ZENITH_ANGLE_B7': 10.9411470340065, 'DARK_FEATURES_PERCENTAGE': 0.605408, 'HIGH_PROBA_CLOUDS_PERCENTAGE': 4.728167, 'MEAN_INCIDENCE_ZENITH_ANGLE_B6': 10.9208343315768, 'UNCLASSIFIED_PERCENTAGE': 1.76735, 'MEAN_SOLAR_ZENITH_ANGLE': 29.0571158377636, 'MEAN_INCIDENCE_ZENITH_ANGLE_B8A': 10.9635512193204, 'RADIATIVE_TRANSFER_ACCURACY': 0, 'MGRS_TILE': '18TWQ', 'CLOUDY_PIXEL_PERCENTAGE': 8.131839, 'PRODUCT_ID': 'S2A_MSIL2A_20200801T155911_N0214_R097_T18TWQ_20200801T203016', 'MEAN_INCIDENCE_ZENITH_ANGLE_B10': 10.8656107544912, 'SOLAR_IRRADIANCE_B9': 812.92, 'SNOW_ICE_PERCENTAGE': 0, 'DEGRADED_MSI_DATA_PERCENTAGE': 0, 'MEAN_INCIDENCE_ZENITH_ANGLE_B11': 10.9063730729556, 'MEAN_INCIDENCE_ZENITH_ANGLE_B12': 10.9572190923038, 'SOLAR_IRRADIANCE_B6': 1287.61, 'MEAN_INCIDENCE_AZIMUTH_ANGLE_B10': 291.012691115784, 'SOLAR_IRRADIANCE_B5': 1424.64, 'MEAN_INCIDENCE_AZIMUTH_ANGLE_B11': 292.469392051858, 'SOLAR_IRRADIANCE_B8': 1041.63, 'MEAN_INCIDENCE_AZIMUTH_ANGLE_B12': 293.897225087633, 'SOLAR_IRRADIANCE_B7': 1162.08, 'SOLAR_IRRADIANCE_B2': 1959.66, 'SOLAR_IRRADIANCE_B1': 1884.69, 'SOLAR_IRRADIANCE_B4': 1512.06, 'GEOMETRIC_QUALITY': 'PASSED', 'SOLAR_IRRADIANCE_B3': 1823.24, 'system:asset_size': 299700047, 'WATER_PERCENTAGE': 4.477437, 'system:index': '20200801T155911_20200801T160644_T18TWQ'}}, {'type': 'Image', 'bands': [{'id': 'date', 'data_type': {'type': 'PixelType', 'precision': 'int', 'min': 0, 'max': 65535}, 'dimensions': [2, 2], 'origin': [-75, 45], 'crs': 'EPSG:4326', 'crs_transform': [1, 0, 0, 0, 1, 0]}, {'id': 'QC', 'data_type': {'type': 'PixelType', 'precision': 'int', 'min': 0, 'max': 1}, 'crs': 'EPSG:32618', 'crs_transform': [10, 0, 499980, 0, -10, 5100000]}, {'id': 'estimateLAI', 'data_type': {'type': 'PixelType', 'precision': 'double'}, 'crs': 'EPSG:4326', 'crs_transform': [1, 0, 0, 0, 1, 0]}, {'id': 'partition', 'data_type': {'type': 'PixelType', 'precision': 'int', 'min': 0, 'max': 255}, 'dimensions': [1, 2], 'origin': [-75, 45], 'crs': 'EPSG:4326', 'crs_transform': [1, 0, 0, 0, 1, 0]}, {'id': 'networkID', 'data_type': {'type': 'PixelType', 'precision': 'int', 'min': 0, 'max': 0}, 'dimensions': [1, 2], 'origin': [-75, 45], 'crs': 'EPSG:4326', 'crs_transform': [1, 0, 0, 0, 1, 0]}, {'id': 'errorLAI', 'data_type': {'type': 'PixelType', 'precision': 'double'}, 'crs': 'EPSG:4326', 'crs_transform': [1, 0, 0, 0, 1, 0]}, {'id': 'partition_1', 'data_type': {'type': 'PixelType', 'precision': 'int', 'min': 0, 'max': 255}, 'dimensions': [1, 2], 'origin': [-75, 45], 'crs': 'EPSG:4326', 'crs_transform': [1, 0, 0, 0, 1, 0]}, {'id': 'networkID_1', 'data_type': {'type': 'PixelType', 'precision': 'int', 'min': 0, 'max': 0}, 'dimensions': [1, 2], 'origin': [-75, 45], 'crs': 'EPSG:4326', 'crs_transform': [1, 0, 0, 0, 1, 0]}], 'id': 'COPERNICUS/S2_SR/20200801T155911_20200801T160644_T18TWR', 'version': 1596491732759714, 'properties': {'system:footprint': {'type': 'Polygon', 'coordinates': [[[-75, 45.06535006813443], [-74.59861096119978, 45.06464469530186], [-74.59856698859844, 45.064671808444174], [-74.59850959389054, 45.06467957673284], [-74.59849347794062, 45.06469893555579], [-74.59810477565358, 45.06533285433092], [-74.57093516387613, 45.13113247363771], [-74.56938068358569, 45.13490738395501], [-74.3678840418926, 45.620582154983325], [-74.20794173153358, 46.0007182220367], [-75, 45.99999999999999], [-75, 45.06535006813443]]]}, 'DATATAKE_IDENTIFIER': 'GS2A_20200801T155911_026692_N02.14', 'AOT_RETRIEVAL_ACCURACY': 0, 'SPACECRAFT_NAME': 'Sentinel-2A', 'SATURATED_DEFECTIVE_PIXEL_PERCENTAGE': 0, 'MEAN_INCIDENCE_AZIMUTH_ANGLE_B8A': 287.896469738246, 'CLOUD_SHADOW_PERCENTAGE': 2.574335, 'MEAN_SOLAR_AZIMUTH_ANGLE': 154.098968158197, 'VEGETATION_PERCENTAGE': 81.535476, 'SOLAR_IRRADIANCE_B12': 85.25, 'SOLAR_IRRADIANCE_B10': 367.15, 'SENSOR_QUALITY': 'PASSED', 'SOLAR_IRRADIANCE_B11': 245.59, 'GENERATION_TIME': 1596313816000, 'SOLAR_IRRADIANCE_B8A': 955.32, 'FORMAT_CORRECTNESS': 'PASSED', 'CLOUD_COVERAGE_ASSESSMENT': 8.254203, 'THIN_CIRRUS_PERCENTAGE': 1.217012, 'system:time_end': 1596298237373, 'WATER_VAPOUR_RETRIEVAL_ACCURACY': 0, 'system:time_start': 1596298237373, 'DATASTRIP_ID': 'S2A_OPER_MSI_L2A_DS_VGS2_20200801T203016_S20200801T160644_N02.14', 'PROCESSING_BASELINE': '02.14', 'SENSING_ORBIT_NUMBER': 97, 'NODATA_PIXEL_PERCENTAGE': 56.944841, 'SENSING_ORBIT_DIRECTION': 'DESCENDING', 'GENERAL_QUALITY': 'PASSED', 'GRANULE_ID': 'L2A_T18TWR_A026692_20200801T160644', 'REFLECTANCE_CONVERSION_CORRECTION': 0.97013272108893, 'MEDIUM_PROBA_CLOUDS_PERCENTAGE': 1.335338, 'MEAN_INCIDENCE_AZIMUTH_ANGLE_B8': 287.185815815454, 'DATATAKE_TYPE': 'INS-NOBS', 'MEAN_INCIDENCE_AZIMUTH_ANGLE_B9': 288.08977498248, 'MEAN_INCIDENCE_AZIMUTH_ANGLE_B6': 287.672799239431, 'MEAN_INCIDENCE_AZIMUTH_ANGLE_B7': 287.778720862102, 'MEAN_INCIDENCE_AZIMUTH_ANGLE_B4': 287.470803894723, 'MEAN_INCIDENCE_ZENITH_ANGLE_B1': 9.97525211398707, 'NOT_VEGETATED_PERCENTAGE': 2.783437, 'MEAN_INCIDENCE_AZIMUTH_ANGLE_B5': 287.554398998907, 'RADIOMETRIC_QUALITY': 'PASSED', 'MEAN_INCIDENCE_AZIMUTH_ANGLE_B2': 287.054090686494, 'MEAN_INCIDENCE_AZIMUTH_ANGLE_B3': 287.301892125282, 'MEAN_INCIDENCE_ZENITH_ANGLE_B5': 9.88496746259171, 'MEAN_INCIDENCE_AZIMUTH_ANGLE_B1': 287.971423829738, 'MEAN_INCIDENCE_ZENITH_ANGLE_B4': 9.87479086317242, 'MEAN_INCIDENCE_ZENITH_ANGLE_B3': 9.84681916233077, 'MEAN_INCIDENCE_ZENITH_ANGLE_B2': 9.82541291950537, 'MEAN_INCIDENCE_ZENITH_ANGLE_B9': 10.003479677213, 'MEAN_INCIDENCE_ZENITH_ANGLE_B8': 9.835171211658, 'MEAN_INCIDENCE_ZENITH_ANGLE_B7': 9.92606041469514, 'DARK_FEATURES_PERCENTAGE': 0.38537, 'HIGH_PROBA_CLOUDS_PERCENTAGE': 5.701853, 'MEAN_INCIDENCE_ZENITH_ANGLE_B6': 9.90455652180143, 'UNCLASSIFIED_PERCENTAGE': 1.539062, 'MEAN_SOLAR_ZENITH_ANGLE': 29.8797243818921, 'MEAN_INCIDENCE_ZENITH_ANGLE_B8A': 9.94961523630441, 'RADIATIVE_TRANSFER_ACCURACY': 0, 'MGRS_TILE': '18TWR', 'CLOUDY_PIXEL_PERCENTAGE': 8.254203, 'PRODUCT_ID': 'S2A_MSIL2A_20200801T155911_N0214_R097_T18TWR_20200801T203016', 'MEAN_INCIDENCE_ZENITH_ANGLE_B10': 9.85798358867195, 'SOLAR_IRRADIANCE_B9': 812.92, 'SNOW_ICE_PERCENTAGE': 0.013146, 'DEGRADED_MSI_DATA_PERCENTAGE': 0, 'MEAN_INCIDENCE_ZENITH_ANGLE_B11': 9.90047939155591, 'MEAN_INCIDENCE_ZENITH_ANGLE_B12': 9.95421455603985, 'SOLAR_IRRADIANCE_B6': 1287.61, 'MEAN_INCIDENCE_AZIMUTH_ANGLE_B10': 287.220547433173, 'SOLAR_IRRADIANCE_B5': 1424.64, 'MEAN_INCIDENCE_AZIMUTH_ANGLE_B11': 287.463934819336, 'SOLAR_IRRADIANCE_B8': 1041.63, 'MEAN_INCIDENCE_AZIMUTH_ANGLE_B12': 287.693842678292, 'SOLAR_IRRADIANCE_B7': 1162.08, 'SOLAR_IRRADIANCE_B2': 1959.66, 'SOLAR_IRRADIANCE_B1': 1884.69, 'SOLAR_IRRADIANCE_B4': 1512.06, 'GEOMETRIC_QUALITY': 'PASSED', 'SOLAR_IRRADIANCE_B3': 1823.24, 'system:asset_size': 745572604, 'WATER_PERCENTAGE': 2.914971, 'system:index': '20200801T155911_20200801T160644_T18TWR'}}]}\n"
     ]
    }
   ],
   "source": [
    "print(export_collection.getInfo())"
   ]
  },
  {
   "cell_type": "code",
   "execution_count": 70,
   "metadata": {},
   "outputs": [
    {
     "ename": "EEException",
     "evalue": "Collection.loadTable: Collection asset 'users/rfernand387/COPERNICUS_S2_SR/s2_sl2p_weiss_or_prosail_NNT3_Single_0_1_Error' not found.",
     "output_type": "error",
     "traceback": [
      "\u001b[0;31m---------------------------------------------------------------------------\u001b[0m",
      "\u001b[0;31mHttpError\u001b[0m                                 Traceback (most recent call last)",
      "\u001b[0;32m~/opt/anaconda3/envs/leaf-toolbox/lib/python3.9/site-packages/ee/data.py\u001b[0m in \u001b[0;36m_execute_cloud_call\u001b[0;34m(call, num_retries)\u001b[0m\n\u001b[1;32m    333\u001b[0m   \u001b[0;32mtry\u001b[0m\u001b[0;34m:\u001b[0m\u001b[0;34m\u001b[0m\u001b[0;34m\u001b[0m\u001b[0m\n\u001b[0;32m--> 334\u001b[0;31m     \u001b[0;32mreturn\u001b[0m \u001b[0mcall\u001b[0m\u001b[0;34m.\u001b[0m\u001b[0mexecute\u001b[0m\u001b[0;34m(\u001b[0m\u001b[0mnum_retries\u001b[0m\u001b[0;34m=\u001b[0m\u001b[0mnum_retries\u001b[0m\u001b[0;34m)\u001b[0m\u001b[0;34m\u001b[0m\u001b[0;34m\u001b[0m\u001b[0m\n\u001b[0m\u001b[1;32m    335\u001b[0m   \u001b[0;32mexcept\u001b[0m \u001b[0mgoogleapiclient\u001b[0m\u001b[0;34m.\u001b[0m\u001b[0merrors\u001b[0m\u001b[0;34m.\u001b[0m\u001b[0mHttpError\u001b[0m \u001b[0;32mas\u001b[0m \u001b[0me\u001b[0m\u001b[0;34m:\u001b[0m\u001b[0;34m\u001b[0m\u001b[0;34m\u001b[0m\u001b[0m\n",
      "\u001b[0;32m~/opt/anaconda3/envs/leaf-toolbox/lib/python3.9/site-packages/googleapiclient/_helpers.py\u001b[0m in \u001b[0;36mpositional_wrapper\u001b[0;34m(*args, **kwargs)\u001b[0m\n\u001b[1;32m    133\u001b[0m                     \u001b[0mlogger\u001b[0m\u001b[0;34m.\u001b[0m\u001b[0mwarning\u001b[0m\u001b[0;34m(\u001b[0m\u001b[0mmessage\u001b[0m\u001b[0;34m)\u001b[0m\u001b[0;34m\u001b[0m\u001b[0;34m\u001b[0m\u001b[0m\n\u001b[0;32m--> 134\u001b[0;31m             \u001b[0;32mreturn\u001b[0m \u001b[0mwrapped\u001b[0m\u001b[0;34m(\u001b[0m\u001b[0;34m*\u001b[0m\u001b[0margs\u001b[0m\u001b[0;34m,\u001b[0m \u001b[0;34m**\u001b[0m\u001b[0mkwargs\u001b[0m\u001b[0;34m)\u001b[0m\u001b[0;34m\u001b[0m\u001b[0;34m\u001b[0m\u001b[0m\n\u001b[0m\u001b[1;32m    135\u001b[0m \u001b[0;34m\u001b[0m\u001b[0m\n",
      "\u001b[0;32m~/opt/anaconda3/envs/leaf-toolbox/lib/python3.9/site-packages/googleapiclient/http.py\u001b[0m in \u001b[0;36mexecute\u001b[0;34m(self, http, num_retries)\u001b[0m\n\u001b[1;32m    914\u001b[0m         \u001b[0;32mif\u001b[0m \u001b[0mresp\u001b[0m\u001b[0;34m.\u001b[0m\u001b[0mstatus\u001b[0m \u001b[0;34m>=\u001b[0m \u001b[0;36m300\u001b[0m\u001b[0;34m:\u001b[0m\u001b[0;34m\u001b[0m\u001b[0;34m\u001b[0m\u001b[0m\n\u001b[0;32m--> 915\u001b[0;31m             \u001b[0;32mraise\u001b[0m \u001b[0mHttpError\u001b[0m\u001b[0;34m(\u001b[0m\u001b[0mresp\u001b[0m\u001b[0;34m,\u001b[0m \u001b[0mcontent\u001b[0m\u001b[0;34m,\u001b[0m \u001b[0muri\u001b[0m\u001b[0;34m=\u001b[0m\u001b[0mself\u001b[0m\u001b[0;34m.\u001b[0m\u001b[0muri\u001b[0m\u001b[0;34m)\u001b[0m\u001b[0;34m\u001b[0m\u001b[0;34m\u001b[0m\u001b[0m\n\u001b[0m\u001b[1;32m    916\u001b[0m         \u001b[0;32mreturn\u001b[0m \u001b[0mself\u001b[0m\u001b[0;34m.\u001b[0m\u001b[0mpostproc\u001b[0m\u001b[0;34m(\u001b[0m\u001b[0mresp\u001b[0m\u001b[0;34m,\u001b[0m \u001b[0mcontent\u001b[0m\u001b[0;34m)\u001b[0m\u001b[0;34m\u001b[0m\u001b[0;34m\u001b[0m\u001b[0m\n",
      "\u001b[0;31mHttpError\u001b[0m: <HttpError 400 when requesting https://earthengine.googleapis.com/v1alpha/projects/earthengine-legacy/value:compute?prettyPrint=false&alt=json returned \"Collection.loadTable: Collection asset 'users/rfernand387/COPERNICUS_S2_SR/s2_sl2p_weiss_or_prosail_NNT3_Single_0_1_Error' not found.\". Details: \"Collection.loadTable: Collection asset 'users/rfernand387/COPERNICUS_S2_SR/s2_sl2p_weiss_or_prosail_NNT3_Single_0_1_Error' not found.\">",
      "\nDuring handling of the above exception, another exception occurred:\n",
      "\u001b[0;31mEEException\u001b[0m                               Traceback (most recent call last)",
      "\u001b[0;32m/var/folders/rx/5_fd7v5s5dbc3yr3cx7bw9m40000gn/T/ipykernel_1634/4287337758.py\u001b[0m in \u001b[0;36m<module>\u001b[0;34m\u001b[0m\n\u001b[1;32m      1\u001b[0m \u001b[0;31m# image_output_names = ([name+\"_\"+outputName for name in export_collection.toList(export_collection.size()).map(lambda image: ee.Image(image).id()).getInfo()])\u001b[0m\u001b[0;34m\u001b[0m\u001b[0;34m\u001b[0m\u001b[0m\n\u001b[1;32m      2\u001b[0m \u001b[0;34m\u001b[0m\u001b[0m\n\u001b[0;32m----> 3\u001b[0;31m \u001b[0mexport_collection\u001b[0m\u001b[0;34m.\u001b[0m\u001b[0mgetInfo\u001b[0m\u001b[0;34m(\u001b[0m\u001b[0;34m)\u001b[0m\u001b[0;34m\u001b[0m\u001b[0;34m\u001b[0m\u001b[0m\n\u001b[0m\u001b[1;32m      4\u001b[0m \u001b[0;31m# input_collection.getInfo()\u001b[0m\u001b[0;34m\u001b[0m\u001b[0;34m\u001b[0m\u001b[0m\n",
      "\u001b[0;32m~/opt/anaconda3/envs/leaf-toolbox/lib/python3.9/site-packages/ee/collection.py\u001b[0m in \u001b[0;36mgetInfo\u001b[0;34m(self)\u001b[0m\n\u001b[1;32m    125\u001b[0m            \u001b[0mproperties\u001b[0m\u001b[0;34m.\u001b[0m\u001b[0;34m\u001b[0m\u001b[0;34m\u001b[0m\u001b[0m\n\u001b[1;32m    126\u001b[0m     \"\"\"\n\u001b[0;32m--> 127\u001b[0;31m     \u001b[0;32mreturn\u001b[0m \u001b[0msuper\u001b[0m\u001b[0;34m(\u001b[0m\u001b[0mCollection\u001b[0m\u001b[0;34m,\u001b[0m \u001b[0mself\u001b[0m\u001b[0;34m)\u001b[0m\u001b[0;34m.\u001b[0m\u001b[0mgetInfo\u001b[0m\u001b[0;34m(\u001b[0m\u001b[0;34m)\u001b[0m\u001b[0;34m\u001b[0m\u001b[0;34m\u001b[0m\u001b[0m\n\u001b[0m\u001b[1;32m    128\u001b[0m \u001b[0;34m\u001b[0m\u001b[0m\n\u001b[1;32m    129\u001b[0m   \u001b[0;32mdef\u001b[0m \u001b[0mlimit\u001b[0m\u001b[0;34m(\u001b[0m\u001b[0mself\u001b[0m\u001b[0;34m,\u001b[0m \u001b[0mmaximum\u001b[0m\u001b[0;34m,\u001b[0m \u001b[0mopt_property\u001b[0m\u001b[0;34m=\u001b[0m\u001b[0;32mNone\u001b[0m\u001b[0;34m,\u001b[0m \u001b[0mopt_ascending\u001b[0m\u001b[0;34m=\u001b[0m\u001b[0;32mNone\u001b[0m\u001b[0;34m)\u001b[0m\u001b[0;34m:\u001b[0m\u001b[0;34m\u001b[0m\u001b[0;34m\u001b[0m\u001b[0m\n",
      "\u001b[0;32m~/opt/anaconda3/envs/leaf-toolbox/lib/python3.9/site-packages/ee/computedobject.py\u001b[0m in \u001b[0;36mgetInfo\u001b[0;34m(self)\u001b[0m\n\u001b[1;32m     96\u001b[0m       \u001b[0mThe\u001b[0m \u001b[0mobject\u001b[0m \u001b[0mcan\u001b[0m \u001b[0mevaluate\u001b[0m \u001b[0mto\u001b[0m \u001b[0manything\u001b[0m\u001b[0;34m.\u001b[0m\u001b[0;34m\u001b[0m\u001b[0;34m\u001b[0m\u001b[0m\n\u001b[1;32m     97\u001b[0m     \"\"\"\n\u001b[0;32m---> 98\u001b[0;31m     \u001b[0;32mreturn\u001b[0m \u001b[0mdata\u001b[0m\u001b[0;34m.\u001b[0m\u001b[0mcomputeValue\u001b[0m\u001b[0;34m(\u001b[0m\u001b[0mself\u001b[0m\u001b[0;34m)\u001b[0m\u001b[0;34m\u001b[0m\u001b[0;34m\u001b[0m\u001b[0m\n\u001b[0m\u001b[1;32m     99\u001b[0m \u001b[0;34m\u001b[0m\u001b[0m\n\u001b[1;32m    100\u001b[0m   \u001b[0;32mdef\u001b[0m \u001b[0mencode\u001b[0m\u001b[0;34m(\u001b[0m\u001b[0mself\u001b[0m\u001b[0;34m,\u001b[0m \u001b[0mencoder\u001b[0m\u001b[0;34m)\u001b[0m\u001b[0;34m:\u001b[0m\u001b[0;34m\u001b[0m\u001b[0;34m\u001b[0m\u001b[0m\n",
      "\u001b[0;32m~/opt/anaconda3/envs/leaf-toolbox/lib/python3.9/site-packages/ee/data.py\u001b[0m in \u001b[0;36mcomputeValue\u001b[0;34m(obj)\u001b[0m\n\u001b[1;32m    670\u001b[0m     \u001b[0mThe\u001b[0m \u001b[0mresult\u001b[0m \u001b[0mof\u001b[0m \u001b[0mevaluating\u001b[0m \u001b[0mthat\u001b[0m \u001b[0mobject\u001b[0m \u001b[0mon\u001b[0m \u001b[0mthe\u001b[0m \u001b[0mserver\u001b[0m\u001b[0;34m.\u001b[0m\u001b[0;34m\u001b[0m\u001b[0;34m\u001b[0m\u001b[0m\n\u001b[1;32m    671\u001b[0m   \"\"\"\n\u001b[0;32m--> 672\u001b[0;31m   return _execute_cloud_call(\n\u001b[0m\u001b[1;32m    673\u001b[0m       _get_cloud_api_resource().projects().value().compute(\n\u001b[1;32m    674\u001b[0m           \u001b[0mbody\u001b[0m\u001b[0;34m=\u001b[0m\u001b[0;34m{\u001b[0m\u001b[0;34m'expression'\u001b[0m\u001b[0;34m:\u001b[0m \u001b[0mserializer\u001b[0m\u001b[0;34m.\u001b[0m\u001b[0mencode\u001b[0m\u001b[0;34m(\u001b[0m\u001b[0mobj\u001b[0m\u001b[0;34m,\u001b[0m \u001b[0mfor_cloud_api\u001b[0m\u001b[0;34m=\u001b[0m\u001b[0;32mTrue\u001b[0m\u001b[0;34m)\u001b[0m\u001b[0;34m}\u001b[0m\u001b[0;34m,\u001b[0m\u001b[0;34m\u001b[0m\u001b[0;34m\u001b[0m\u001b[0m\n",
      "\u001b[0;32m~/opt/anaconda3/envs/leaf-toolbox/lib/python3.9/site-packages/ee/data.py\u001b[0m in \u001b[0;36m_execute_cloud_call\u001b[0;34m(call, num_retries)\u001b[0m\n\u001b[1;32m    334\u001b[0m     \u001b[0;32mreturn\u001b[0m \u001b[0mcall\u001b[0m\u001b[0;34m.\u001b[0m\u001b[0mexecute\u001b[0m\u001b[0;34m(\u001b[0m\u001b[0mnum_retries\u001b[0m\u001b[0;34m=\u001b[0m\u001b[0mnum_retries\u001b[0m\u001b[0;34m)\u001b[0m\u001b[0;34m\u001b[0m\u001b[0;34m\u001b[0m\u001b[0m\n\u001b[1;32m    335\u001b[0m   \u001b[0;32mexcept\u001b[0m \u001b[0mgoogleapiclient\u001b[0m\u001b[0;34m.\u001b[0m\u001b[0merrors\u001b[0m\u001b[0;34m.\u001b[0m\u001b[0mHttpError\u001b[0m \u001b[0;32mas\u001b[0m \u001b[0me\u001b[0m\u001b[0;34m:\u001b[0m\u001b[0;34m\u001b[0m\u001b[0;34m\u001b[0m\u001b[0m\n\u001b[0;32m--> 336\u001b[0;31m     \u001b[0;32mraise\u001b[0m \u001b[0m_translate_cloud_exception\u001b[0m\u001b[0;34m(\u001b[0m\u001b[0me\u001b[0m\u001b[0;34m)\u001b[0m\u001b[0;34m\u001b[0m\u001b[0;34m\u001b[0m\u001b[0m\n\u001b[0m\u001b[1;32m    337\u001b[0m \u001b[0;34m\u001b[0m\u001b[0m\n\u001b[1;32m    338\u001b[0m \u001b[0;34m\u001b[0m\u001b[0m\n",
      "\u001b[0;31mEEException\u001b[0m: Collection.loadTable: Collection asset 'users/rfernand387/COPERNICUS_S2_SR/s2_sl2p_weiss_or_prosail_NNT3_Single_0_1_Error' not found."
     ]
    }
   ],
   "source": [
    "# image_output_names = ([name+\"_\"+outputName for name in export_collection.toList(export_collection.size()).map(lambda image: ee.Image(image).id()).getInfo()])\n",
    "\n",
    "export_collection.getInfo()\n",
    "# input_collection.getInfo()"
   ]
  },
  {
   "cell_type": "code",
   "execution_count": null,
   "metadata": {},
   "outputs": [],
   "source": [
    "# SL2P10_10m\n",
    "# make products and export\n",
    "\n"
   ]
  },
  {
   "cell_type": "code",
   "execution_count": null,
   "metadata": {},
   "outputs": [],
   "source": [
    "# SL2P10_20m – produce 20 m map using SL2P10 network by reducing image resolution\n",
    "# make products and export\n",
    "\n"
   ]
  },
  {
   "cell_type": "code",
   "execution_count": 92,
   "metadata": {},
   "outputs": [
    {
     "name": "stdout",
     "output_type": "stream",
     "text": [
      "20200801T155911_20200801T160644_T18TVQ_LAI\n",
      "20200801T155911_20200801T160644_T18TVR_LAI\n",
      "20200801T155911_20200801T160644_T18TVS_LAI\n",
      "20200801T155911_20200801T160644_T18TWQ_LAI\n",
      "20200801T155911_20200801T160644_T18TWR_LAI\n"
     ]
    }
   ],
   "source": [
    "# export tasks to google drive\n",
    "export_tasks = export_collection_to_drive(collection = export_collection, \n",
    "                                          num_images = export_collection.size().getInfo(), \n",
    "                                          image_names = image_output_names, \n",
    "                                          gdrive_folder = exportFolder, \n",
    "                                          scale = 20,\n",
    "                                          data_type = exportDatatype,\n",
    "                                          max_pixels = 1e13)"
   ]
  },
  {
   "cell_type": "code",
   "execution_count": 93,
   "metadata": {},
   "outputs": [
    {
     "name": "stdout",
     "output_type": "stream",
     "text": [
      "20200801T155911_20200801T160644_T18TVQ_LAI: READY\n",
      "20200801T155911_20200801T160644_T18TVR_LAI: READY\n",
      "20200801T155911_20200801T160644_T18TVS_LAI: READY\n",
      "20200801T155911_20200801T160644_T18TWQ_LAI: READY\n",
      "20200801T155911_20200801T160644_T18TWR_LAI: READY\n"
     ]
    }
   ],
   "source": [
    "check_ee_tasks(export_tasks)"
   ]
  },
  {
   "cell_type": "code",
   "execution_count": null,
   "metadata": {},
   "outputs": [],
   "source": [
    "# sample and scatter plot outputs from SL2P vs. (a) SL2P10_10m and (b) SL2P10_20m\n",
    "\n",
    "\n",
    "\n"
   ]
  }
 ],
 "metadata": {
  "kernelspec": {
   "display_name": "Python 3 (ipykernel)",
   "language": "python",
   "name": "python3"
  },
  "language_info": {
   "codemirror_mode": {
    "name": "ipython",
    "version": 3
   },
   "file_extension": ".py",
   "mimetype": "text/x-python",
   "name": "python",
   "nbconvert_exporter": "python",
   "pygments_lexer": "ipython3",
   "version": "3.8.11"
  }
 },
 "nbformat": 4,
 "nbformat_minor": 4
}
